{
  "cells": [
    {
      "cell_type": "code",
      "execution_count": 3,
      "id": "6ed55761",
      "metadata": {
        "colab": {
          "base_uri": "https://localhost:8080/"
        },
        "id": "6ed55761",
        "outputId": "745b3a1e-b852-478e-a308-577dfa897623"
      },
      "outputs": [
        {
          "name": "stdout",
          "output_type": "stream",
          "text": [
            "Note: you may need to restart the kernel to use updated packages.\n"
          ]
        },
        {
          "name": "stderr",
          "output_type": "stream",
          "text": [
            "The filename, directory name, or volume label syntax is incorrect.\n"
          ]
        }
      ],
      "source": [
        "%pip install faiss-gpu"
      ]
    },
    {
      "cell_type": "code",
      "execution_count": 1,
      "id": "JxLW7YpiU4jJ",
      "metadata": {
        "id": "JxLW7YpiU4jJ"
      },
      "outputs": [
        {
          "ename": "ModuleNotFoundError",
          "evalue": "No module named 'faiss'",
          "output_type": "error",
          "traceback": [
            "\u001b[1;31m---------------------------------------------------------------------------\u001b[0m",
            "\u001b[1;31mModuleNotFoundError\u001b[0m                       Traceback (most recent call last)",
            "\u001b[1;32m~\\AppData\\Local\\Temp/ipykernel_5236/339006398.py\u001b[0m in \u001b[0;36m<module>\u001b[1;34m\u001b[0m\n\u001b[1;32m----> 1\u001b[1;33m \u001b[1;32mimport\u001b[0m \u001b[0mfaiss\u001b[0m\u001b[1;33m\u001b[0m\u001b[1;33m\u001b[0m\u001b[0m\n\u001b[0m",
            "\u001b[1;31mModuleNotFoundError\u001b[0m: No module named 'faiss'"
          ]
        }
      ],
      "source": [
        "import faiss"
      ]
    },
    {
      "cell_type": "code",
      "execution_count": null,
      "id": "c931f430",
      "metadata": {
        "id": "c931f430"
      },
      "outputs": [],
      "source": [
        "import numpy as np"
      ]
    },
    {
      "cell_type": "code",
      "execution_count": null,
      "id": "1a9559e4",
      "metadata": {
        "id": "1a9559e4"
      },
      "outputs": [],
      "source": [
        "import shutil\n",
        "import urllib.request as request\n",
        "from contextlib import closing\n",
        "\n",
        "# first we download the Sift1M dataset\n",
        "with closing(request.urlopen('ftp://ftp.irisa.fr/local/texmex/corpus/sift.tar.gz')) as r:\n",
        "    with open('sift.tar.gz', 'wb') as f:\n",
        "        shutil.copyfileobj(r, f)"
      ]
    },
    {
      "cell_type": "code",
      "execution_count": null,
      "id": "02b0d2f7",
      "metadata": {
        "id": "02b0d2f7"
      },
      "outputs": [],
      "source": [
        "import tarfile\n",
        "\n",
        "# the download leaves us with a tar.gz file, we unzip it\n",
        "tar = tarfile.open('sift.tar.gz', \"r:gz\")\n",
        "tar.extractall()"
      ]
    },
    {
      "cell_type": "code",
      "execution_count": null,
      "id": "580d1ace",
      "metadata": {
        "id": "580d1ace"
      },
      "outputs": [],
      "source": [
        "def read_fvecs(fp):\n",
        "    a = np.fromfile(fp, dtype='int32')\n",
        "    d = a[0]\n",
        "    return a.reshape(-1, d + 1)[:, 1:].copy().view('float32')\n",
        "\n",
        "# 1M samples\n",
        "xb = read_fvecs('./sift/sift_base.fvecs')\n",
        "# queries\n",
        "xq = read_fvecs('./sift/sift_query.fvecs')"
      ]
    },
    {
      "cell_type": "code",
      "execution_count": null,
      "id": "690fb89b",
      "metadata": {
        "colab": {
          "base_uri": "https://localhost:8080/"
        },
        "id": "690fb89b",
        "outputId": "704c344d-719e-4f4d-b3a1-c5f2429d8b92"
      },
      "outputs": [
        {
          "name": "stdout",
          "output_type": "stream",
          "text": [
            "<faiss.swigfaiss.HNSW; proxy of <Swig Object of type 'faiss::HNSW *' at 0x7ff4b61a67e0> >\n"
          ]
        }
      ],
      "source": [
        "d = 128  # vector size\n",
        "M = 32\n",
        "efSearch = 32  # number of entry points (neighbors) we use on each layer\n",
        "efConstruction = 32  # number of entry points used on each layer\n",
        "                     # during construction\n",
        "\n",
        "index = faiss.IndexHNSWFlat(d, M)\n",
        "print(index.hnsw)"
      ]
    },
    {
      "cell_type": "code",
      "execution_count": null,
      "id": "97c7a9d2",
      "metadata": {
        "id": "97c7a9d2",
        "outputId": "8582cf2d-54e8-471c-a902-b33793761806"
      },
      "outputs": [
        {
          "data": {
            "text/plain": [
              "array([], dtype=int64)"
            ]
          },
          "execution_count": 20,
          "metadata": {},
          "output_type": "execute_result"
        }
      ],
      "source": [
        "levels = faiss.vector_to_array(index.hnsw.levels)\n",
        "np.bincount(levels)"
      ]
    },
    {
      "cell_type": "code",
      "execution_count": null,
      "id": "27c65227",
      "metadata": {
        "id": "27c65227"
      },
      "outputs": [],
      "source": [
        "index.hnsw.efConstruction = efConstruction\n",
        "index.hnsw.efSearch = efSearch"
      ]
    },
    {
      "cell_type": "code",
      "execution_count": null,
      "id": "94d94951",
      "metadata": {
        "id": "94d94951"
      },
      "outputs": [],
      "source": [
        "index.add(xb)"
      ]
    },
    {
      "cell_type": "code",
      "execution_count": null,
      "id": "0a1de885",
      "metadata": {
        "id": "0a1de885"
      },
      "outputs": [],
      "source": [
        "# after adding our data we will find that the level\n",
        "# has been set automatically\n",
        "index.hnsw.max_level"
      ]
    },
    {
      "cell_type": "code",
      "execution_count": null,
      "id": "7910788f",
      "metadata": {
        "id": "7910788f"
      },
      "outputs": [],
      "source": [
        "# and levels (or layers) are now populated\n",
        "levels = faiss.vector_to_array(index.hnsw.levels)\n",
        "np.bincount(levels)"
      ]
    },
    {
      "cell_type": "code",
      "execution_count": null,
      "id": "eeba00e9",
      "metadata": {
        "id": "eeba00e9"
      },
      "outputs": [],
      "source": [
        "index.hnsw.entry_point"
      ]
    },
    {
      "cell_type": "code",
      "execution_count": null,
      "id": "e739f869",
      "metadata": {
        "id": "e739f869"
      },
      "outputs": [],
      "source": [
        "def set_default_probas(M: int, m_L: float):\n",
        "    nn = 0  # set nearest neighbors count = 0\n",
        "    cum_nneighbor_per_level = []\n",
        "    level = 0  # we start at level 0\n",
        "    assign_probas = []\n",
        "    while True:\n",
        "        # calculate probability for current level\n",
        "        proba = np.exp(-level / m_L) * (1 - np.exp(-1 / m_L))\n",
        "        # once we reach low prob threshold, we've created enough levels\n",
        "        if proba < 1e-9: break\n",
        "        assign_probas.append(proba)\n",
        "        # neighbors is == M on every level except level 0 where == M*2\n",
        "        nn += M*2 if level == 0 else M\n",
        "        cum_nneighbor_per_level.append(nn)\n",
        "        level += 1\n",
        "    return assign_probas, cum_nneighbor_per_level"
      ]
    },
    {
      "cell_type": "code",
      "execution_count": null,
      "id": "ad32201c",
      "metadata": {
        "id": "ad32201c"
      },
      "outputs": [],
      "source": [
        "assign_probas, cum_nneighbor_per_level = set_default_probas(\n",
        "    32, 1/np.log(32)\n",
        ")\n",
        "assign_probas, cum_nneighbor_per_level"
      ]
    },
    {
      "cell_type": "code",
      "execution_count": null,
      "id": "6f0d0598",
      "metadata": {
        "id": "6f0d0598"
      },
      "outputs": [],
      "source": [
        "# this is copy of HNSW::random_level function\n",
        "def random_level(assign_probas: list, rng):\n",
        "    # get random float from 'r'andom 'n'umber 'g'enerator\n",
        "    f = rng.uniform() \n",
        "    for level in range(len(assign_probas)):\n",
        "        # if the random float is less than level probability...\n",
        "        if f < assign_probas[level]:\n",
        "            # ... we assert at this level\n",
        "            return level\n",
        "        # otherwise subtract level probability and try again\n",
        "        f -= assign_probas[level]\n",
        "    # below happens with very low probability\n",
        "    return len(assign_probas) - 1"
      ]
    },
    {
      "cell_type": "code",
      "execution_count": null,
      "id": "7adadcd8",
      "metadata": {
        "id": "7adadcd8"
      },
      "outputs": [],
      "source": [
        "chosen_levels = []\n",
        "rng = np.random.default_rng(12345)\n",
        "for _ in range(1_000_000):\n",
        "    chosen_levels.append(random_level(assign_probas, rng))\n",
        "np.bincount(chosen_levels)"
      ]
    },
    {
      "cell_type": "code",
      "execution_count": null,
      "id": "85be464d",
      "metadata": {
        "id": "85be464d"
      },
      "outputs": [],
      "source": [
        "set_default_probas(32, 0.09)"
      ]
    },
    {
      "cell_type": "code",
      "execution_count": null,
      "id": "33f1f6b8",
      "metadata": {
        "id": "33f1f6b8"
      },
      "outputs": [],
      "source": [
        "levels = faiss.vector_to_array(index.hnsw.levels)\n",
        "np.bincount(levels)"
      ]
    },
    {
      "cell_type": "code",
      "execution_count": null,
      "id": "a3c73280",
      "metadata": {
        "id": "a3c73280"
      },
      "outputs": [],
      "source": [
        "del index\n",
        "index = faiss.IndexHNSWFlat(d, 32)\n",
        "index.hnsw.set_default_probas(32, 0.09)  # HNSW::set_default_probas(int M, float levelMult)\n",
        "index.hnsw.efConstruction = efConstruction\n",
        "index.add(xb)"
      ]
    },
    {
      "cell_type": "code",
      "execution_count": null,
      "id": "87534a28",
      "metadata": {
        "id": "87534a28"
      },
      "outputs": [],
      "source": [
        "levels = faiss.vector_to_array(index.hnsw.levels)\n",
        "np.bincount(levels)"
      ]
    },
    {
      "cell_type": "code",
      "execution_count": null,
      "id": "5ecf9218",
      "metadata": {
        "id": "5ecf9218"
      },
      "outputs": [],
      "source": [
        "assign_probas, cum_nneighbor_per_level = set_default_probas(32, 0.0000001)\n",
        "assign_probas, cum_nneighbor_per_level"
      ]
    },
    {
      "cell_type": "code",
      "execution_count": null,
      "id": "c3264c6a",
      "metadata": {
        "id": "c3264c6a"
      },
      "outputs": [],
      "source": [
        "chosen_levels = []\n",
        "rng = np.random.default_rng(12345)\n",
        "for _ in range(1_000_000):\n",
        "    chosen_levels.append(random_level(assign_probas, rng))"
      ]
    },
    {
      "cell_type": "code",
      "execution_count": null,
      "id": "86857ec3",
      "metadata": {
        "id": "86857ec3"
      },
      "outputs": [],
      "source": [
        "np.bincount(chosen_levels)"
      ]
    },
    {
      "cell_type": "code",
      "execution_count": null,
      "id": "8fdd83bd",
      "metadata": {
        "id": "8fdd83bd"
      },
      "outputs": [],
      "source": [
        "del index\n",
        "index = faiss.IndexHNSWFlat(d, 32)\n",
        "index.hnsw.efConstruction = efConstruction\n",
        "index.add(xb[:1_000])"
      ]
    },
    {
      "cell_type": "code",
      "execution_count": null,
      "id": "ebb8ebef",
      "metadata": {
        "id": "ebb8ebef"
      },
      "outputs": [],
      "source": [
        "levels = faiss.vector_to_array(index.hnsw.levels)\n",
        "np.bincount(levels)"
      ]
    },
    {
      "cell_type": "code",
      "execution_count": null,
      "id": "5501c354",
      "metadata": {
        "id": "5501c354"
      },
      "outputs": [],
      "source": [
        "recall_idx = []\n",
        "\n",
        "index = faiss.IndexFlatL2(d)\n",
        "index.add(xb)\n",
        "D, recall_idx = index.search(xq[:1000], k=1)"
      ]
    },
    {
      "cell_type": "code",
      "execution_count": null,
      "id": "97b4a812",
      "metadata": {
        "id": "97b4a812"
      },
      "outputs": [],
      "source": [
        "import os\n",
        "\n",
        "def get_memory(index):\n",
        "    faiss.write_index(index, './temp.index')\n",
        "    file_size = os.path.getsize('./temp.index')\n",
        "    os.remove('./temp.index')\n",
        "    return file_size"
      ]
    },
    {
      "cell_type": "code",
      "execution_count": null,
      "id": "a5bbe3c5",
      "metadata": {
        "colab": {
          "base_uri": "https://localhost:8080/",
          "height": 1000,
          "referenced_widgets": [
            "2ab2cd1b077848718d529b74477dc755",
            "e623a192ce484f8192c42f7e236057f0",
            "fe5fa85862ac42b7a4db679ae8891f84",
            "af5f4b882d7a4e88b4cd25cc048794a8",
            "c63814341cb945d098c97e3e530da1c2",
            "b92b36d3196b491b9b5cf60c9d0ece32",
            "efab34b9c2c24afebff0f3339c0c37f4",
            "1b04faae65f54e2a8847fe48993d2a2e",
            "6e000ac677bb43fba2ccf5825fcee7eb",
            "c4ba742ff5b04b14a83de287368d16d2",
            "a20ea8a7d8e24e03be2fda1615a1119f",
            "14f527102daf4cf2a6b01429f03a63fb",
            "cff2c6ccfa114e16a0b0b0e40957feec",
            "24c84fb94b0745f19db960f2c070f064",
            "82c95bdce006475bbe1812ea05fee5ae",
            "5f6a1332a4d24421bc83b8cd4daeaebb",
            "e774bff9c71b40459f7b58f36dd090da",
            "5de80476b0044ee4b4ab0b86bdba3bc8",
            "532299b16fca4b0c826904bf059bf140",
            "3c8127ada3b646088fa1f7853f988b44",
            "a56e670014994769bf3068cdee4e1172",
            "8509fc5647524718a609a9ef4f2de000",
            "69d2c7f3f6494fb1b65999b48008aaea",
            "e9d367dae41a47c6be670c8c85174f18",
            "aff0b1fd247042fc8f025f535fa21050",
            "6e932ab20f9d40f59ea07a06783845b6",
            "f77f515544b5404abfeef4ad53f403c5",
            "c53c9fb77b0f4edba36f812d72d62006",
            "dd6805874a8a4a58a4833a5ad277c95f",
            "1278ddd64e5e4481871e407e8fd73519",
            "3def2f0c67bf496ab61b9b488c752532",
            "1f8afdccdb734793b018a592122e7444",
            "5657b010a3e948afae49708d600d8bea",
            "a44efd4b87d144ceaa38b8190dd683f8",
            "e3c55ba858914336bfd21fd4fa448478",
            "28daa861d08548058023fbb7e25fd063",
            "463bbb57e53d446b804c8e34626a0085",
            "a8445f130e8349a58fcb81fe22182c6a",
            "15f138eaa392469e9037606c6426e718",
            "b4e27265fa7e41f5b7d20b1d494fd213",
            "42dc07e6261d41d0b6eaacd242a1126e",
            "23fe8ee45536418baa44715033334920",
            "357fc2edf08f42488498ac2c3022dd89",
            "8bf51b107b574f5ba5d08dfc28fcfd49",
            "8fb00b6b0da140c19953c8ca680473d7",
            "2ae17d389d0f4180865b7f4be87d7770",
            "ee07f35d6ee9493598855d6ecdcdbb43",
            "0f3f53d144cd49128216e39f097becdd",
            "0212daa828de482ebc20d1b9f544e1a1",
            "8b05868b8d8340beb46cc9f18782ca0b",
            "dd262718b12243909cebf7e9a6fafb58",
            "bf4e7e2e82b8482cbf9768303a4feb35",
            "aa42ba1c06f24b5185f6e18ddfbc3397",
            "2c12fbb8adca4e6b9d1058a173aa07b8",
            "f8fd9c70f5ef45b986c72f192494d490",
            "e2b1e675ebc341a5b71ec1cb3bd1f480",
            "a19fca54079d49bda87f0d890a75caaf",
            "04df7fa7bfd6411bb7056ce78765d144",
            "275aac17d7ed48f1a6cbb93d20a7448d",
            "b07a7d441347459da6ee2feffc4af6c0",
            "dadd1e22a7f54896a96aad895fab777c",
            "e70f6a6227ba49cebb4cbffe063dc079",
            "63f86f5ac21248b1b1d478cc9bc00288",
            "805e2a389b934bb7a40460a4482b9caa",
            "d967a42a632f46f8ba86cb0698f2c0e7",
            "6c0098aaed3e46f19be1c4c519d8d0dc"
          ]
        },
        "id": "a5bbe3c5",
        "outputId": "ad080c7d-392f-4f16-f69f-b52d316c7141",
        "scrolled": false
      },
      "outputs": [
        {
          "data": {
            "application/vnd.jupyter.widget-view+json": {
              "model_id": "2ab2cd1b077848718d529b74477dc755",
              "version_major": 2,
              "version_minor": 0
            },
            "text/plain": [
              "  0%|          | 0/5 [00:00<?, ?it/s]"
            ]
          },
          "metadata": {},
          "output_type": "display_data"
        },
        {
          "name": "stdout",
          "output_type": "stream",
          "text": [
            "2\n"
          ]
        },
        {
          "data": {
            "application/vnd.jupyter.widget-view+json": {
              "model_id": "14f527102daf4cf2a6b01429f03a63fb",
              "version_major": 2,
              "version_minor": 0
            },
            "text/plain": [
              "  0%|          | 0/5 [00:00<?, ?it/s]"
            ]
          },
          "metadata": {},
          "output_type": "display_data"
        },
        {
          "name": "stderr",
          "output_type": "stream",
          "text": [
            "<ipython-input-16-e212b51de994>:34: FutureWarning: The frame.append method is deprecated and will be removed from pandas in a future version. Use pandas.concat instead.\n",
            "  results = results.append({\n",
            "<ipython-input-16-e212b51de994>:34: FutureWarning: The frame.append method is deprecated and will be removed from pandas in a future version. Use pandas.concat instead.\n",
            "  results = results.append({\n",
            "<ipython-input-16-e212b51de994>:34: FutureWarning: The frame.append method is deprecated and will be removed from pandas in a future version. Use pandas.concat instead.\n",
            "  results = results.append({\n",
            "<ipython-input-16-e212b51de994>:34: FutureWarning: The frame.append method is deprecated and will be removed from pandas in a future version. Use pandas.concat instead.\n",
            "  results = results.append({\n",
            "<ipython-input-16-e212b51de994>:34: FutureWarning: The frame.append method is deprecated and will be removed from pandas in a future version. Use pandas.concat instead.\n",
            "  results = results.append({\n",
            "<ipython-input-16-e212b51de994>:34: FutureWarning: The frame.append method is deprecated and will be removed from pandas in a future version. Use pandas.concat instead.\n",
            "  results = results.append({\n",
            "<ipython-input-16-e212b51de994>:34: FutureWarning: The frame.append method is deprecated and will be removed from pandas in a future version. Use pandas.concat instead.\n",
            "  results = results.append({\n",
            "<ipython-input-16-e212b51de994>:34: FutureWarning: The frame.append method is deprecated and will be removed from pandas in a future version. Use pandas.concat instead.\n",
            "  results = results.append({\n",
            "<ipython-input-16-e212b51de994>:34: FutureWarning: The frame.append method is deprecated and will be removed from pandas in a future version. Use pandas.concat instead.\n",
            "  results = results.append({\n",
            "<ipython-input-16-e212b51de994>:34: FutureWarning: The frame.append method is deprecated and will be removed from pandas in a future version. Use pandas.concat instead.\n",
            "  results = results.append({\n",
            "<ipython-input-16-e212b51de994>:34: FutureWarning: The frame.append method is deprecated and will be removed from pandas in a future version. Use pandas.concat instead.\n",
            "  results = results.append({\n",
            "<ipython-input-16-e212b51de994>:34: FutureWarning: The frame.append method is deprecated and will be removed from pandas in a future version. Use pandas.concat instead.\n",
            "  results = results.append({\n",
            "<ipython-input-16-e212b51de994>:34: FutureWarning: The frame.append method is deprecated and will be removed from pandas in a future version. Use pandas.concat instead.\n",
            "  results = results.append({\n",
            "<ipython-input-16-e212b51de994>:34: FutureWarning: The frame.append method is deprecated and will be removed from pandas in a future version. Use pandas.concat instead.\n",
            "  results = results.append({\n",
            "<ipython-input-16-e212b51de994>:34: FutureWarning: The frame.append method is deprecated and will be removed from pandas in a future version. Use pandas.concat instead.\n",
            "  results = results.append({\n",
            "<ipython-input-16-e212b51de994>:34: FutureWarning: The frame.append method is deprecated and will be removed from pandas in a future version. Use pandas.concat instead.\n",
            "  results = results.append({\n",
            "<ipython-input-16-e212b51de994>:34: FutureWarning: The frame.append method is deprecated and will be removed from pandas in a future version. Use pandas.concat instead.\n",
            "  results = results.append({\n",
            "<ipython-input-16-e212b51de994>:34: FutureWarning: The frame.append method is deprecated and will be removed from pandas in a future version. Use pandas.concat instead.\n",
            "  results = results.append({\n",
            "<ipython-input-16-e212b51de994>:34: FutureWarning: The frame.append method is deprecated and will be removed from pandas in a future version. Use pandas.concat instead.\n",
            "  results = results.append({\n",
            "<ipython-input-16-e212b51de994>:34: FutureWarning: The frame.append method is deprecated and will be removed from pandas in a future version. Use pandas.concat instead.\n",
            "  results = results.append({\n"
          ]
        },
        {
          "name": "stdout",
          "output_type": "stream",
          "text": [
            "4\n"
          ]
        },
        {
          "name": "stderr",
          "output_type": "stream",
          "text": [
            "<ipython-input-16-e212b51de994>:34: FutureWarning: The frame.append method is deprecated and will be removed from pandas in a future version. Use pandas.concat instead.\n",
            "  results = results.append({\n",
            "<ipython-input-16-e212b51de994>:34: FutureWarning: The frame.append method is deprecated and will be removed from pandas in a future version. Use pandas.concat instead.\n",
            "  results = results.append({\n",
            "<ipython-input-16-e212b51de994>:34: FutureWarning: The frame.append method is deprecated and will be removed from pandas in a future version. Use pandas.concat instead.\n",
            "  results = results.append({\n",
            "<ipython-input-16-e212b51de994>:34: FutureWarning: The frame.append method is deprecated and will be removed from pandas in a future version. Use pandas.concat instead.\n",
            "  results = results.append({\n",
            "<ipython-input-16-e212b51de994>:34: FutureWarning: The frame.append method is deprecated and will be removed from pandas in a future version. Use pandas.concat instead.\n",
            "  results = results.append({\n"
          ]
        },
        {
          "data": {
            "application/vnd.jupyter.widget-view+json": {
              "model_id": "69d2c7f3f6494fb1b65999b48008aaea",
              "version_major": 2,
              "version_minor": 0
            },
            "text/plain": [
              "  0%|          | 0/5 [00:00<?, ?it/s]"
            ]
          },
          "metadata": {},
          "output_type": "display_data"
        },
        {
          "name": "stderr",
          "output_type": "stream",
          "text": [
            "<ipython-input-16-e212b51de994>:34: FutureWarning: The frame.append method is deprecated and will be removed from pandas in a future version. Use pandas.concat instead.\n",
            "  results = results.append({\n",
            "<ipython-input-16-e212b51de994>:34: FutureWarning: The frame.append method is deprecated and will be removed from pandas in a future version. Use pandas.concat instead.\n",
            "  results = results.append({\n",
            "<ipython-input-16-e212b51de994>:34: FutureWarning: The frame.append method is deprecated and will be removed from pandas in a future version. Use pandas.concat instead.\n",
            "  results = results.append({\n",
            "<ipython-input-16-e212b51de994>:34: FutureWarning: The frame.append method is deprecated and will be removed from pandas in a future version. Use pandas.concat instead.\n",
            "  results = results.append({\n",
            "<ipython-input-16-e212b51de994>:34: FutureWarning: The frame.append method is deprecated and will be removed from pandas in a future version. Use pandas.concat instead.\n",
            "  results = results.append({\n",
            "<ipython-input-16-e212b51de994>:34: FutureWarning: The frame.append method is deprecated and will be removed from pandas in a future version. Use pandas.concat instead.\n",
            "  results = results.append({\n",
            "<ipython-input-16-e212b51de994>:34: FutureWarning: The frame.append method is deprecated and will be removed from pandas in a future version. Use pandas.concat instead.\n",
            "  results = results.append({\n",
            "<ipython-input-16-e212b51de994>:34: FutureWarning: The frame.append method is deprecated and will be removed from pandas in a future version. Use pandas.concat instead.\n",
            "  results = results.append({\n",
            "<ipython-input-16-e212b51de994>:34: FutureWarning: The frame.append method is deprecated and will be removed from pandas in a future version. Use pandas.concat instead.\n",
            "  results = results.append({\n",
            "<ipython-input-16-e212b51de994>:34: FutureWarning: The frame.append method is deprecated and will be removed from pandas in a future version. Use pandas.concat instead.\n",
            "  results = results.append({\n",
            "<ipython-input-16-e212b51de994>:34: FutureWarning: The frame.append method is deprecated and will be removed from pandas in a future version. Use pandas.concat instead.\n",
            "  results = results.append({\n",
            "<ipython-input-16-e212b51de994>:34: FutureWarning: The frame.append method is deprecated and will be removed from pandas in a future version. Use pandas.concat instead.\n",
            "  results = results.append({\n",
            "<ipython-input-16-e212b51de994>:34: FutureWarning: The frame.append method is deprecated and will be removed from pandas in a future version. Use pandas.concat instead.\n",
            "  results = results.append({\n",
            "<ipython-input-16-e212b51de994>:34: FutureWarning: The frame.append method is deprecated and will be removed from pandas in a future version. Use pandas.concat instead.\n",
            "  results = results.append({\n",
            "<ipython-input-16-e212b51de994>:34: FutureWarning: The frame.append method is deprecated and will be removed from pandas in a future version. Use pandas.concat instead.\n",
            "  results = results.append({\n",
            "<ipython-input-16-e212b51de994>:34: FutureWarning: The frame.append method is deprecated and will be removed from pandas in a future version. Use pandas.concat instead.\n",
            "  results = results.append({\n",
            "<ipython-input-16-e212b51de994>:34: FutureWarning: The frame.append method is deprecated and will be removed from pandas in a future version. Use pandas.concat instead.\n",
            "  results = results.append({\n",
            "<ipython-input-16-e212b51de994>:34: FutureWarning: The frame.append method is deprecated and will be removed from pandas in a future version. Use pandas.concat instead.\n",
            "  results = results.append({\n",
            "<ipython-input-16-e212b51de994>:34: FutureWarning: The frame.append method is deprecated and will be removed from pandas in a future version. Use pandas.concat instead.\n",
            "  results = results.append({\n",
            "<ipython-input-16-e212b51de994>:34: FutureWarning: The frame.append method is deprecated and will be removed from pandas in a future version. Use pandas.concat instead.\n",
            "  results = results.append({\n"
          ]
        },
        {
          "name": "stdout",
          "output_type": "stream",
          "text": [
            "8\n"
          ]
        },
        {
          "name": "stderr",
          "output_type": "stream",
          "text": [
            "<ipython-input-16-e212b51de994>:34: FutureWarning: The frame.append method is deprecated and will be removed from pandas in a future version. Use pandas.concat instead.\n",
            "  results = results.append({\n",
            "<ipython-input-16-e212b51de994>:34: FutureWarning: The frame.append method is deprecated and will be removed from pandas in a future version. Use pandas.concat instead.\n",
            "  results = results.append({\n",
            "<ipython-input-16-e212b51de994>:34: FutureWarning: The frame.append method is deprecated and will be removed from pandas in a future version. Use pandas.concat instead.\n",
            "  results = results.append({\n",
            "<ipython-input-16-e212b51de994>:34: FutureWarning: The frame.append method is deprecated and will be removed from pandas in a future version. Use pandas.concat instead.\n",
            "  results = results.append({\n",
            "<ipython-input-16-e212b51de994>:34: FutureWarning: The frame.append method is deprecated and will be removed from pandas in a future version. Use pandas.concat instead.\n",
            "  results = results.append({\n"
          ]
        },
        {
          "data": {
            "application/vnd.jupyter.widget-view+json": {
              "model_id": "a44efd4b87d144ceaa38b8190dd683f8",
              "version_major": 2,
              "version_minor": 0
            },
            "text/plain": [
              "  0%|          | 0/5 [00:00<?, ?it/s]"
            ]
          },
          "metadata": {},
          "output_type": "display_data"
        },
        {
          "name": "stderr",
          "output_type": "stream",
          "text": [
            "<ipython-input-16-e212b51de994>:34: FutureWarning: The frame.append method is deprecated and will be removed from pandas in a future version. Use pandas.concat instead.\n",
            "  results = results.append({\n",
            "<ipython-input-16-e212b51de994>:34: FutureWarning: The frame.append method is deprecated and will be removed from pandas in a future version. Use pandas.concat instead.\n",
            "  results = results.append({\n",
            "<ipython-input-16-e212b51de994>:34: FutureWarning: The frame.append method is deprecated and will be removed from pandas in a future version. Use pandas.concat instead.\n",
            "  results = results.append({\n",
            "<ipython-input-16-e212b51de994>:34: FutureWarning: The frame.append method is deprecated and will be removed from pandas in a future version. Use pandas.concat instead.\n",
            "  results = results.append({\n",
            "<ipython-input-16-e212b51de994>:34: FutureWarning: The frame.append method is deprecated and will be removed from pandas in a future version. Use pandas.concat instead.\n",
            "  results = results.append({\n",
            "<ipython-input-16-e212b51de994>:34: FutureWarning: The frame.append method is deprecated and will be removed from pandas in a future version. Use pandas.concat instead.\n",
            "  results = results.append({\n",
            "<ipython-input-16-e212b51de994>:34: FutureWarning: The frame.append method is deprecated and will be removed from pandas in a future version. Use pandas.concat instead.\n",
            "  results = results.append({\n",
            "<ipython-input-16-e212b51de994>:34: FutureWarning: The frame.append method is deprecated and will be removed from pandas in a future version. Use pandas.concat instead.\n",
            "  results = results.append({\n",
            "<ipython-input-16-e212b51de994>:34: FutureWarning: The frame.append method is deprecated and will be removed from pandas in a future version. Use pandas.concat instead.\n",
            "  results = results.append({\n",
            "<ipython-input-16-e212b51de994>:34: FutureWarning: The frame.append method is deprecated and will be removed from pandas in a future version. Use pandas.concat instead.\n",
            "  results = results.append({\n",
            "<ipython-input-16-e212b51de994>:34: FutureWarning: The frame.append method is deprecated and will be removed from pandas in a future version. Use pandas.concat instead.\n",
            "  results = results.append({\n",
            "<ipython-input-16-e212b51de994>:34: FutureWarning: The frame.append method is deprecated and will be removed from pandas in a future version. Use pandas.concat instead.\n",
            "  results = results.append({\n",
            "<ipython-input-16-e212b51de994>:34: FutureWarning: The frame.append method is deprecated and will be removed from pandas in a future version. Use pandas.concat instead.\n",
            "  results = results.append({\n",
            "<ipython-input-16-e212b51de994>:34: FutureWarning: The frame.append method is deprecated and will be removed from pandas in a future version. Use pandas.concat instead.\n",
            "  results = results.append({\n",
            "<ipython-input-16-e212b51de994>:34: FutureWarning: The frame.append method is deprecated and will be removed from pandas in a future version. Use pandas.concat instead.\n",
            "  results = results.append({\n",
            "<ipython-input-16-e212b51de994>:34: FutureWarning: The frame.append method is deprecated and will be removed from pandas in a future version. Use pandas.concat instead.\n",
            "  results = results.append({\n",
            "<ipython-input-16-e212b51de994>:34: FutureWarning: The frame.append method is deprecated and will be removed from pandas in a future version. Use pandas.concat instead.\n",
            "  results = results.append({\n",
            "<ipython-input-16-e212b51de994>:34: FutureWarning: The frame.append method is deprecated and will be removed from pandas in a future version. Use pandas.concat instead.\n",
            "  results = results.append({\n",
            "<ipython-input-16-e212b51de994>:34: FutureWarning: The frame.append method is deprecated and will be removed from pandas in a future version. Use pandas.concat instead.\n",
            "  results = results.append({\n",
            "<ipython-input-16-e212b51de994>:34: FutureWarning: The frame.append method is deprecated and will be removed from pandas in a future version. Use pandas.concat instead.\n",
            "  results = results.append({\n",
            "<ipython-input-16-e212b51de994>:34: FutureWarning: The frame.append method is deprecated and will be removed from pandas in a future version. Use pandas.concat instead.\n",
            "  results = results.append({\n",
            "<ipython-input-16-e212b51de994>:34: FutureWarning: The frame.append method is deprecated and will be removed from pandas in a future version. Use pandas.concat instead.\n",
            "  results = results.append({\n",
            "<ipython-input-16-e212b51de994>:34: FutureWarning: The frame.append method is deprecated and will be removed from pandas in a future version. Use pandas.concat instead.\n",
            "  results = results.append({\n",
            "<ipython-input-16-e212b51de994>:34: FutureWarning: The frame.append method is deprecated and will be removed from pandas in a future version. Use pandas.concat instead.\n",
            "  results = results.append({\n"
          ]
        },
        {
          "name": "stdout",
          "output_type": "stream",
          "text": [
            "16\n"
          ]
        },
        {
          "name": "stderr",
          "output_type": "stream",
          "text": [
            "<ipython-input-16-e212b51de994>:34: FutureWarning: The frame.append method is deprecated and will be removed from pandas in a future version. Use pandas.concat instead.\n",
            "  results = results.append({\n"
          ]
        },
        {
          "data": {
            "application/vnd.jupyter.widget-view+json": {
              "model_id": "8fb00b6b0da140c19953c8ca680473d7",
              "version_major": 2,
              "version_minor": 0
            },
            "text/plain": [
              "  0%|          | 0/5 [00:00<?, ?it/s]"
            ]
          },
          "metadata": {},
          "output_type": "display_data"
        },
        {
          "name": "stderr",
          "output_type": "stream",
          "text": [
            "<ipython-input-16-e212b51de994>:34: FutureWarning: The frame.append method is deprecated and will be removed from pandas in a future version. Use pandas.concat instead.\n",
            "  results = results.append({\n",
            "<ipython-input-16-e212b51de994>:34: FutureWarning: The frame.append method is deprecated and will be removed from pandas in a future version. Use pandas.concat instead.\n",
            "  results = results.append({\n",
            "<ipython-input-16-e212b51de994>:34: FutureWarning: The frame.append method is deprecated and will be removed from pandas in a future version. Use pandas.concat instead.\n",
            "  results = results.append({\n",
            "<ipython-input-16-e212b51de994>:34: FutureWarning: The frame.append method is deprecated and will be removed from pandas in a future version. Use pandas.concat instead.\n",
            "  results = results.append({\n",
            "<ipython-input-16-e212b51de994>:34: FutureWarning: The frame.append method is deprecated and will be removed from pandas in a future version. Use pandas.concat instead.\n",
            "  results = results.append({\n",
            "<ipython-input-16-e212b51de994>:34: FutureWarning: The frame.append method is deprecated and will be removed from pandas in a future version. Use pandas.concat instead.\n",
            "  results = results.append({\n",
            "<ipython-input-16-e212b51de994>:34: FutureWarning: The frame.append method is deprecated and will be removed from pandas in a future version. Use pandas.concat instead.\n",
            "  results = results.append({\n",
            "<ipython-input-16-e212b51de994>:34: FutureWarning: The frame.append method is deprecated and will be removed from pandas in a future version. Use pandas.concat instead.\n",
            "  results = results.append({\n",
            "<ipython-input-16-e212b51de994>:34: FutureWarning: The frame.append method is deprecated and will be removed from pandas in a future version. Use pandas.concat instead.\n",
            "  results = results.append({\n",
            "<ipython-input-16-e212b51de994>:34: FutureWarning: The frame.append method is deprecated and will be removed from pandas in a future version. Use pandas.concat instead.\n",
            "  results = results.append({\n",
            "<ipython-input-16-e212b51de994>:34: FutureWarning: The frame.append method is deprecated and will be removed from pandas in a future version. Use pandas.concat instead.\n",
            "  results = results.append({\n",
            "<ipython-input-16-e212b51de994>:34: FutureWarning: The frame.append method is deprecated and will be removed from pandas in a future version. Use pandas.concat instead.\n",
            "  results = results.append({\n",
            "<ipython-input-16-e212b51de994>:34: FutureWarning: The frame.append method is deprecated and will be removed from pandas in a future version. Use pandas.concat instead.\n",
            "  results = results.append({\n",
            "<ipython-input-16-e212b51de994>:34: FutureWarning: The frame.append method is deprecated and will be removed from pandas in a future version. Use pandas.concat instead.\n",
            "  results = results.append({\n",
            "<ipython-input-16-e212b51de994>:34: FutureWarning: The frame.append method is deprecated and will be removed from pandas in a future version. Use pandas.concat instead.\n",
            "  results = results.append({\n",
            "<ipython-input-16-e212b51de994>:34: FutureWarning: The frame.append method is deprecated and will be removed from pandas in a future version. Use pandas.concat instead.\n",
            "  results = results.append({\n",
            "<ipython-input-16-e212b51de994>:34: FutureWarning: The frame.append method is deprecated and will be removed from pandas in a future version. Use pandas.concat instead.\n",
            "  results = results.append({\n",
            "<ipython-input-16-e212b51de994>:34: FutureWarning: The frame.append method is deprecated and will be removed from pandas in a future version. Use pandas.concat instead.\n",
            "  results = results.append({\n",
            "<ipython-input-16-e212b51de994>:34: FutureWarning: The frame.append method is deprecated and will be removed from pandas in a future version. Use pandas.concat instead.\n",
            "  results = results.append({\n",
            "<ipython-input-16-e212b51de994>:34: FutureWarning: The frame.append method is deprecated and will be removed from pandas in a future version. Use pandas.concat instead.\n",
            "  results = results.append({\n",
            "<ipython-input-16-e212b51de994>:34: FutureWarning: The frame.append method is deprecated and will be removed from pandas in a future version. Use pandas.concat instead.\n",
            "  results = results.append({\n",
            "<ipython-input-16-e212b51de994>:34: FutureWarning: The frame.append method is deprecated and will be removed from pandas in a future version. Use pandas.concat instead.\n",
            "  results = results.append({\n",
            "<ipython-input-16-e212b51de994>:34: FutureWarning: The frame.append method is deprecated and will be removed from pandas in a future version. Use pandas.concat instead.\n",
            "  results = results.append({\n"
          ]
        },
        {
          "name": "stdout",
          "output_type": "stream",
          "text": [
            "32\n"
          ]
        },
        {
          "name": "stderr",
          "output_type": "stream",
          "text": [
            "<ipython-input-16-e212b51de994>:34: FutureWarning: The frame.append method is deprecated and will be removed from pandas in a future version. Use pandas.concat instead.\n",
            "  results = results.append({\n",
            "<ipython-input-16-e212b51de994>:34: FutureWarning: The frame.append method is deprecated and will be removed from pandas in a future version. Use pandas.concat instead.\n",
            "  results = results.append({\n"
          ]
        },
        {
          "data": {
            "application/vnd.jupyter.widget-view+json": {
              "model_id": "e2b1e675ebc341a5b71ec1cb3bd1f480",
              "version_major": 2,
              "version_minor": 0
            },
            "text/plain": [
              "  0%|          | 0/5 [00:00<?, ?it/s]"
            ]
          },
          "metadata": {},
          "output_type": "display_data"
        },
        {
          "name": "stderr",
          "output_type": "stream",
          "text": [
            "<ipython-input-16-e212b51de994>:34: FutureWarning: The frame.append method is deprecated and will be removed from pandas in a future version. Use pandas.concat instead.\n",
            "  results = results.append({\n",
            "<ipython-input-16-e212b51de994>:34: FutureWarning: The frame.append method is deprecated and will be removed from pandas in a future version. Use pandas.concat instead.\n",
            "  results = results.append({\n",
            "<ipython-input-16-e212b51de994>:34: FutureWarning: The frame.append method is deprecated and will be removed from pandas in a future version. Use pandas.concat instead.\n",
            "  results = results.append({\n",
            "<ipython-input-16-e212b51de994>:34: FutureWarning: The frame.append method is deprecated and will be removed from pandas in a future version. Use pandas.concat instead.\n",
            "  results = results.append({\n",
            "<ipython-input-16-e212b51de994>:34: FutureWarning: The frame.append method is deprecated and will be removed from pandas in a future version. Use pandas.concat instead.\n",
            "  results = results.append({\n",
            "<ipython-input-16-e212b51de994>:34: FutureWarning: The frame.append method is deprecated and will be removed from pandas in a future version. Use pandas.concat instead.\n",
            "  results = results.append({\n",
            "<ipython-input-16-e212b51de994>:34: FutureWarning: The frame.append method is deprecated and will be removed from pandas in a future version. Use pandas.concat instead.\n",
            "  results = results.append({\n",
            "<ipython-input-16-e212b51de994>:34: FutureWarning: The frame.append method is deprecated and will be removed from pandas in a future version. Use pandas.concat instead.\n",
            "  results = results.append({\n",
            "<ipython-input-16-e212b51de994>:34: FutureWarning: The frame.append method is deprecated and will be removed from pandas in a future version. Use pandas.concat instead.\n",
            "  results = results.append({\n",
            "<ipython-input-16-e212b51de994>:34: FutureWarning: The frame.append method is deprecated and will be removed from pandas in a future version. Use pandas.concat instead.\n",
            "  results = results.append({\n",
            "<ipython-input-16-e212b51de994>:34: FutureWarning: The frame.append method is deprecated and will be removed from pandas in a future version. Use pandas.concat instead.\n",
            "  results = results.append({\n",
            "<ipython-input-16-e212b51de994>:34: FutureWarning: The frame.append method is deprecated and will be removed from pandas in a future version. Use pandas.concat instead.\n",
            "  results = results.append({\n",
            "<ipython-input-16-e212b51de994>:34: FutureWarning: The frame.append method is deprecated and will be removed from pandas in a future version. Use pandas.concat instead.\n",
            "  results = results.append({\n",
            "<ipython-input-16-e212b51de994>:34: FutureWarning: The frame.append method is deprecated and will be removed from pandas in a future version. Use pandas.concat instead.\n",
            "  results = results.append({\n",
            "<ipython-input-16-e212b51de994>:34: FutureWarning: The frame.append method is deprecated and will be removed from pandas in a future version. Use pandas.concat instead.\n",
            "  results = results.append({\n",
            "<ipython-input-16-e212b51de994>:34: FutureWarning: The frame.append method is deprecated and will be removed from pandas in a future version. Use pandas.concat instead.\n",
            "  results = results.append({\n",
            "<ipython-input-16-e212b51de994>:34: FutureWarning: The frame.append method is deprecated and will be removed from pandas in a future version. Use pandas.concat instead.\n",
            "  results = results.append({\n",
            "<ipython-input-16-e212b51de994>:34: FutureWarning: The frame.append method is deprecated and will be removed from pandas in a future version. Use pandas.concat instead.\n",
            "  results = results.append({\n",
            "<ipython-input-16-e212b51de994>:34: FutureWarning: The frame.append method is deprecated and will be removed from pandas in a future version. Use pandas.concat instead.\n",
            "  results = results.append({\n",
            "<ipython-input-16-e212b51de994>:34: FutureWarning: The frame.append method is deprecated and will be removed from pandas in a future version. Use pandas.concat instead.\n",
            "  results = results.append({\n",
            "<ipython-input-16-e212b51de994>:34: FutureWarning: The frame.append method is deprecated and will be removed from pandas in a future version. Use pandas.concat instead.\n",
            "  results = results.append({\n",
            "<ipython-input-16-e212b51de994>:34: FutureWarning: The frame.append method is deprecated and will be removed from pandas in a future version. Use pandas.concat instead.\n",
            "  results = results.append({\n",
            "<ipython-input-16-e212b51de994>:34: FutureWarning: The frame.append method is deprecated and will be removed from pandas in a future version. Use pandas.concat instead.\n",
            "  results = results.append({\n",
            "<ipython-input-16-e212b51de994>:34: FutureWarning: The frame.append method is deprecated and will be removed from pandas in a future version. Use pandas.concat instead.\n",
            "  results = results.append({\n",
            "<ipython-input-16-e212b51de994>:34: FutureWarning: The frame.append method is deprecated and will be removed from pandas in a future version. Use pandas.concat instead.\n",
            "  results = results.append({\n"
          ]
        }
      ],
      "source": [
        "import time\n",
        "import pandas as pd\n",
        "from tqdm.auto import trange\n",
        "from datetime import datetime\n",
        "\n",
        "results = pd.DataFrame({\n",
        "    'M': [],\n",
        "    'efConstruction': [],\n",
        "    'efSearch': [],\n",
        "    'recall@1': [],\n",
        "    'build_time': [],\n",
        "    'search_time': [],\n",
        "    'memory_usage': []\n",
        "})\n",
        "\n",
        "\n",
        "for M_bit in trange(1, 6):\n",
        "    M = 2 ** M_bit\n",
        "    print(M)\n",
        "    for ef_bit in trange(1, 6):\n",
        "        efConstruction = 2 ** ef_bit\n",
        "        index = faiss.IndexHNSWFlat(d, M)\n",
        "        index.efConstruction = efConstruction\n",
        "        start = time.perf_counter()\n",
        "        index.add(xb)\n",
        "        build_time = (time.perf_counter() - start)\n",
        "        memory_usage = get_memory(index)\n",
        "        for efSearch in [2, 4, 8, 16, 32]:\n",
        "            index.efSearch = efSearch\n",
        "            start = time.perf_counter()\n",
        "            D, I = index.search(xq[:1000], k=1)\n",
        "            search_time = (time.perf_counter() - start)\n",
        "            recall = sum(I == recall_idx)[0]\n",
        "            results = results.append({\n",
        "                'M': M,\n",
        "                'efConstruction': efConstruction,\n",
        "                'efSearch': efSearch,\n",
        "                'recall@1': recall,\n",
        "                'build_time': build_time,\n",
        "                'search_time': search_time,\n",
        "                'memory_usage': memory_usage\n",
        "            }, ignore_index=True)\n",
        "        del index"
      ]
    },
    {
      "cell_type": "code",
      "execution_count": null,
      "id": "375cf382",
      "metadata": {
        "id": "375cf382"
      },
      "outputs": [],
      "source": [
        "results.to_csv('./results.csv', sep='|', index=False)"
      ]
    },
    {
      "cell_type": "code",
      "execution_count": null,
      "id": "e79edb82",
      "metadata": {
        "id": "e79edb82"
      },
      "outputs": [],
      "source": [
        "import pandas as pd\n",
        "\n",
        "results = pd.read_csv('./results.csv', sep='|')\n",
        "results.head()"
      ]
    },
    {
      "cell_type": "code",
      "execution_count": null,
      "id": "9be3d9ca",
      "metadata": {
        "id": "9be3d9ca"
      },
      "outputs": [],
      "source": [
        "index = faiss.IndexHNSWFlat(d, M)\n",
        "index.efConstruction = 32\n",
        "index.add(xb)\n",
        "index.efSearch = 2\n",
        "start = datetime.now()\n",
        "D, I = index.search(xq_full[:1000], k=1)\n",
        "search_time = (datetime.now() - start).microseconds\n",
        "recall = sum(I == recall_idx)[0]"
      ]
    },
    {
      "cell_type": "code",
      "execution_count": null,
      "id": "e3df9750",
      "metadata": {
        "id": "e3df9750",
        "outputId": "7342a8b0-a5e2-41e7-c89d-69d633d5d094"
      },
      "outputs": [
        {
          "data": {
            "text/plain": [
              "211926"
            ]
          },
          "execution_count": 99,
          "metadata": {},
          "output_type": "execute_result"
        }
      ],
      "source": [
        "search_time"
      ]
    },
    {
      "cell_type": "code",
      "execution_count": null,
      "id": "c60e49f1",
      "metadata": {
        "id": "c60e49f1",
        "outputId": "33cc4c3f-8f63-48fc-ec52-b4c21222163f"
      },
      "outputs": [
        {
          "data": {
            "text/plain": [
              "913"
            ]
          },
          "execution_count": 100,
          "metadata": {},
          "output_type": "execute_result"
        }
      ],
      "source": [
        "recall"
      ]
    },
    {
      "cell_type": "code",
      "execution_count": null,
      "id": "bd25c47e",
      "metadata": {
        "id": "bd25c47e",
        "outputId": "29f945d4-a25f-4c5f-c7e3-e271095be2d3"
      },
      "outputs": [
        {
          "data": {
            "text/plain": [
              "(2, 32)"
            ]
          },
          "execution_count": 101,
          "metadata": {},
          "output_type": "execute_result"
        }
      ],
      "source": [
        "efConstruction,efSearch"
      ]
    },
    {
      "cell_type": "code",
      "execution_count": null,
      "id": "18fc35c6",
      "metadata": {
        "id": "18fc35c6",
        "outputId": "e3857cfc-42db-4ba6-f5d8-b9349a374f0a"
      },
      "outputs": [
        {
          "data": {
            "text/plain": [
              "(411107, 913)"
            ]
          },
          "execution_count": 102,
          "metadata": {},
          "output_type": "execute_result"
        }
      ],
      "source": [
        "index.efSearch = 32\n",
        "start = datetime.now()\n",
        "D, I = index.search(xq_full[:1000], k=1)\n",
        "search_time = (datetime.now() - start).microseconds\n",
        "recall = sum(I == recall_idx)[0]\n",
        "search_time,recall"
      ]
    },
    {
      "cell_type": "code",
      "execution_count": null,
      "id": "3bc03c91",
      "metadata": {
        "id": "3bc03c91"
      },
      "outputs": [],
      "source": [
        "import time"
      ]
    },
    {
      "cell_type": "code",
      "execution_count": null,
      "id": "942a27c6",
      "metadata": {
        "colab": {
          "base_uri": "https://localhost:8080/"
        },
        "id": "942a27c6",
        "outputId": "e4868471-5dce-4103-ed3c-d2d9071248e8"
      },
      "outputs": [
        {
          "data": {
            "text/plain": [
              "399.89372968673706"
            ]
          },
          "execution_count": 19,
          "metadata": {},
          "output_type": "execute_result"
        }
      ],
      "source": [
        "index = faiss.IndexHNSWFlat(d, M)\n",
        "index.efConstruction = efConstruction\n",
        "start = time.time()\n",
        "index.add(xb)\n",
        "build_time = time.time()\n",
        "build_time - start"
      ]
    },
    {
      "cell_type": "code",
      "execution_count": null,
      "id": "aVSnqxFYpH7D",
      "metadata": {
        "colab": {
          "base_uri": "https://localhost:8080/"
        },
        "id": "aVSnqxFYpH7D",
        "outputId": "fdfe9031-c417-4147-cc58-57443f294c37"
      },
      "outputs": [
        {
          "data": {
            "text/plain": [
              "0.3042445182800293"
            ]
          },
          "execution_count": 20,
          "metadata": {},
          "output_type": "execute_result"
        }
      ],
      "source": [
        "index.efSearch = efSearch\n",
        "start = time.time()\n",
        "D, I = index.search(xq_full[:1000], k=1)\n",
        "search_time = time.time()\n",
        "search_time - start"
      ]
    },
    {
      "cell_type": "code",
      "execution_count": null,
      "id": "WeK8rJ8tpXm2",
      "metadata": {
        "id": "WeK8rJ8tpXm2"
      },
      "outputs": [],
      "source": [
        "t = datetime.now()"
      ]
    },
    {
      "cell_type": "code",
      "execution_count": null,
      "id": "mKq9VyH4pmOb",
      "metadata": {
        "colab": {
          "base_uri": "https://localhost:8080/"
        },
        "id": "mKq9VyH4pmOb",
        "outputId": "11d939eb-72c8-488f-d736-f36970afaaeb"
      },
      "outputs": [
        {
          "data": {
            "text/plain": [
              "datetime.timedelta(seconds=9, microseconds=449645)"
            ]
          },
          "execution_count": 27,
          "metadata": {},
          "output_type": "execute_result"
        }
      ],
      "source": [
        "datetime.now()-t"
      ]
    }
  ],
  "metadata": {
    "accelerator": "GPU",
    "colab": {
      "provenance": [],
      "toc_visible": true
    },
    "gpuClass": "standard",
    "kernelspec": {
      "display_name": "Python 3",
      "name": "python3"
    },
    "language_info": {
      "codemirror_mode": {
        "name": "ipython",
        "version": 3
      },
      "file_extension": ".py",
      "mimetype": "text/x-python",
      "name": "python",
      "nbconvert_exporter": "python",
      "pygments_lexer": "ipython3",
      "version": "3.9.13"
    },
    "widgets": {
      "application/vnd.jupyter.widget-state+json": {
        "0212daa828de482ebc20d1b9f544e1a1": {
          "model_module": "@jupyter-widgets/base",
          "model_module_version": "1.2.0",
          "model_name": "LayoutModel",
          "state": {
            "_model_module": "@jupyter-widgets/base",
            "_model_module_version": "1.2.0",
            "_model_name": "LayoutModel",
            "_view_count": null,
            "_view_module": "@jupyter-widgets/base",
            "_view_module_version": "1.2.0",
            "_view_name": "LayoutView",
            "align_content": null,
            "align_items": null,
            "align_self": null,
            "border": null,
            "bottom": null,
            "display": null,
            "flex": null,
            "flex_flow": null,
            "grid_area": null,
            "grid_auto_columns": null,
            "grid_auto_flow": null,
            "grid_auto_rows": null,
            "grid_column": null,
            "grid_gap": null,
            "grid_row": null,
            "grid_template_areas": null,
            "grid_template_columns": null,
            "grid_template_rows": null,
            "height": null,
            "justify_content": null,
            "justify_items": null,
            "left": null,
            "margin": null,
            "max_height": null,
            "max_width": null,
            "min_height": null,
            "min_width": null,
            "object_fit": null,
            "object_position": null,
            "order": null,
            "overflow": null,
            "overflow_x": null,
            "overflow_y": null,
            "padding": null,
            "right": null,
            "top": null,
            "visibility": null,
            "width": null
          }
        },
        "04df7fa7bfd6411bb7056ce78765d144": {
          "model_module": "@jupyter-widgets/controls",
          "model_module_version": "1.5.0",
          "model_name": "FloatProgressModel",
          "state": {
            "_dom_classes": [],
            "_model_module": "@jupyter-widgets/controls",
            "_model_module_version": "1.5.0",
            "_model_name": "FloatProgressModel",
            "_view_count": null,
            "_view_module": "@jupyter-widgets/controls",
            "_view_module_version": "1.5.0",
            "_view_name": "ProgressView",
            "bar_style": "success",
            "description": "",
            "description_tooltip": null,
            "layout": "IPY_MODEL_63f86f5ac21248b1b1d478cc9bc00288",
            "max": 5,
            "min": 0,
            "orientation": "horizontal",
            "style": "IPY_MODEL_805e2a389b934bb7a40460a4482b9caa",
            "value": 5
          }
        },
        "0f3f53d144cd49128216e39f097becdd": {
          "model_module": "@jupyter-widgets/controls",
          "model_module_version": "1.5.0",
          "model_name": "HTMLModel",
          "state": {
            "_dom_classes": [],
            "_model_module": "@jupyter-widgets/controls",
            "_model_module_version": "1.5.0",
            "_model_name": "HTMLModel",
            "_view_count": null,
            "_view_module": "@jupyter-widgets/controls",
            "_view_module_version": "1.5.0",
            "_view_name": "HTMLView",
            "description": "",
            "description_tooltip": null,
            "layout": "IPY_MODEL_2c12fbb8adca4e6b9d1058a173aa07b8",
            "placeholder": "​",
            "style": "IPY_MODEL_f8fd9c70f5ef45b986c72f192494d490",
            "value": " 5/5 [16:23&lt;00:00, 196.87s/it]"
          }
        },
        "1278ddd64e5e4481871e407e8fd73519": {
          "model_module": "@jupyter-widgets/base",
          "model_module_version": "1.2.0",
          "model_name": "LayoutModel",
          "state": {
            "_model_module": "@jupyter-widgets/base",
            "_model_module_version": "1.2.0",
            "_model_name": "LayoutModel",
            "_view_count": null,
            "_view_module": "@jupyter-widgets/base",
            "_view_module_version": "1.2.0",
            "_view_name": "LayoutView",
            "align_content": null,
            "align_items": null,
            "align_self": null,
            "border": null,
            "bottom": null,
            "display": null,
            "flex": null,
            "flex_flow": null,
            "grid_area": null,
            "grid_auto_columns": null,
            "grid_auto_flow": null,
            "grid_auto_rows": null,
            "grid_column": null,
            "grid_gap": null,
            "grid_row": null,
            "grid_template_areas": null,
            "grid_template_columns": null,
            "grid_template_rows": null,
            "height": null,
            "justify_content": null,
            "justify_items": null,
            "left": null,
            "margin": null,
            "max_height": null,
            "max_width": null,
            "min_height": null,
            "min_width": null,
            "object_fit": null,
            "object_position": null,
            "order": null,
            "overflow": null,
            "overflow_x": null,
            "overflow_y": null,
            "padding": null,
            "right": null,
            "top": null,
            "visibility": null,
            "width": null
          }
        },
        "14f527102daf4cf2a6b01429f03a63fb": {
          "model_module": "@jupyter-widgets/controls",
          "model_module_version": "1.5.0",
          "model_name": "HBoxModel",
          "state": {
            "_dom_classes": [],
            "_model_module": "@jupyter-widgets/controls",
            "_model_module_version": "1.5.0",
            "_model_name": "HBoxModel",
            "_view_count": null,
            "_view_module": "@jupyter-widgets/controls",
            "_view_module_version": "1.5.0",
            "_view_name": "HBoxView",
            "box_style": "",
            "children": [
              "IPY_MODEL_cff2c6ccfa114e16a0b0b0e40957feec",
              "IPY_MODEL_24c84fb94b0745f19db960f2c070f064",
              "IPY_MODEL_82c95bdce006475bbe1812ea05fee5ae"
            ],
            "layout": "IPY_MODEL_5f6a1332a4d24421bc83b8cd4daeaebb"
          }
        },
        "15f138eaa392469e9037606c6426e718": {
          "model_module": "@jupyter-widgets/base",
          "model_module_version": "1.2.0",
          "model_name": "LayoutModel",
          "state": {
            "_model_module": "@jupyter-widgets/base",
            "_model_module_version": "1.2.0",
            "_model_name": "LayoutModel",
            "_view_count": null,
            "_view_module": "@jupyter-widgets/base",
            "_view_module_version": "1.2.0",
            "_view_name": "LayoutView",
            "align_content": null,
            "align_items": null,
            "align_self": null,
            "border": null,
            "bottom": null,
            "display": null,
            "flex": null,
            "flex_flow": null,
            "grid_area": null,
            "grid_auto_columns": null,
            "grid_auto_flow": null,
            "grid_auto_rows": null,
            "grid_column": null,
            "grid_gap": null,
            "grid_row": null,
            "grid_template_areas": null,
            "grid_template_columns": null,
            "grid_template_rows": null,
            "height": null,
            "justify_content": null,
            "justify_items": null,
            "left": null,
            "margin": null,
            "max_height": null,
            "max_width": null,
            "min_height": null,
            "min_width": null,
            "object_fit": null,
            "object_position": null,
            "order": null,
            "overflow": null,
            "overflow_x": null,
            "overflow_y": null,
            "padding": null,
            "right": null,
            "top": null,
            "visibility": null,
            "width": null
          }
        },
        "1b04faae65f54e2a8847fe48993d2a2e": {
          "model_module": "@jupyter-widgets/base",
          "model_module_version": "1.2.0",
          "model_name": "LayoutModel",
          "state": {
            "_model_module": "@jupyter-widgets/base",
            "_model_module_version": "1.2.0",
            "_model_name": "LayoutModel",
            "_view_count": null,
            "_view_module": "@jupyter-widgets/base",
            "_view_module_version": "1.2.0",
            "_view_name": "LayoutView",
            "align_content": null,
            "align_items": null,
            "align_self": null,
            "border": null,
            "bottom": null,
            "display": null,
            "flex": null,
            "flex_flow": null,
            "grid_area": null,
            "grid_auto_columns": null,
            "grid_auto_flow": null,
            "grid_auto_rows": null,
            "grid_column": null,
            "grid_gap": null,
            "grid_row": null,
            "grid_template_areas": null,
            "grid_template_columns": null,
            "grid_template_rows": null,
            "height": null,
            "justify_content": null,
            "justify_items": null,
            "left": null,
            "margin": null,
            "max_height": null,
            "max_width": null,
            "min_height": null,
            "min_width": null,
            "object_fit": null,
            "object_position": null,
            "order": null,
            "overflow": null,
            "overflow_x": null,
            "overflow_y": null,
            "padding": null,
            "right": null,
            "top": null,
            "visibility": null,
            "width": null
          }
        },
        "1f8afdccdb734793b018a592122e7444": {
          "model_module": "@jupyter-widgets/base",
          "model_module_version": "1.2.0",
          "model_name": "LayoutModel",
          "state": {
            "_model_module": "@jupyter-widgets/base",
            "_model_module_version": "1.2.0",
            "_model_name": "LayoutModel",
            "_view_count": null,
            "_view_module": "@jupyter-widgets/base",
            "_view_module_version": "1.2.0",
            "_view_name": "LayoutView",
            "align_content": null,
            "align_items": null,
            "align_self": null,
            "border": null,
            "bottom": null,
            "display": null,
            "flex": null,
            "flex_flow": null,
            "grid_area": null,
            "grid_auto_columns": null,
            "grid_auto_flow": null,
            "grid_auto_rows": null,
            "grid_column": null,
            "grid_gap": null,
            "grid_row": null,
            "grid_template_areas": null,
            "grid_template_columns": null,
            "grid_template_rows": null,
            "height": null,
            "justify_content": null,
            "justify_items": null,
            "left": null,
            "margin": null,
            "max_height": null,
            "max_width": null,
            "min_height": null,
            "min_width": null,
            "object_fit": null,
            "object_position": null,
            "order": null,
            "overflow": null,
            "overflow_x": null,
            "overflow_y": null,
            "padding": null,
            "right": null,
            "top": null,
            "visibility": null,
            "width": null
          }
        },
        "23fe8ee45536418baa44715033334920": {
          "model_module": "@jupyter-widgets/controls",
          "model_module_version": "1.5.0",
          "model_name": "ProgressStyleModel",
          "state": {
            "_model_module": "@jupyter-widgets/controls",
            "_model_module_version": "1.5.0",
            "_model_name": "ProgressStyleModel",
            "_view_count": null,
            "_view_module": "@jupyter-widgets/base",
            "_view_module_version": "1.2.0",
            "_view_name": "StyleView",
            "bar_color": null,
            "description_width": ""
          }
        },
        "24c84fb94b0745f19db960f2c070f064": {
          "model_module": "@jupyter-widgets/controls",
          "model_module_version": "1.5.0",
          "model_name": "FloatProgressModel",
          "state": {
            "_dom_classes": [],
            "_model_module": "@jupyter-widgets/controls",
            "_model_module_version": "1.5.0",
            "_model_name": "FloatProgressModel",
            "_view_count": null,
            "_view_module": "@jupyter-widgets/controls",
            "_view_module_version": "1.5.0",
            "_view_name": "ProgressView",
            "bar_style": "success",
            "description": "",
            "description_tooltip": null,
            "layout": "IPY_MODEL_532299b16fca4b0c826904bf059bf140",
            "max": 5,
            "min": 0,
            "orientation": "horizontal",
            "style": "IPY_MODEL_3c8127ada3b646088fa1f7853f988b44",
            "value": 5
          }
        },
        "275aac17d7ed48f1a6cbb93d20a7448d": {
          "model_module": "@jupyter-widgets/controls",
          "model_module_version": "1.5.0",
          "model_name": "HTMLModel",
          "state": {
            "_dom_classes": [],
            "_model_module": "@jupyter-widgets/controls",
            "_model_module_version": "1.5.0",
            "_model_name": "HTMLModel",
            "_view_count": null,
            "_view_module": "@jupyter-widgets/controls",
            "_view_module_version": "1.5.0",
            "_view_name": "HTMLView",
            "description": "",
            "description_tooltip": null,
            "layout": "IPY_MODEL_d967a42a632f46f8ba86cb0698f2c0e7",
            "placeholder": "​",
            "style": "IPY_MODEL_6c0098aaed3e46f19be1c4c519d8d0dc",
            "value": " 5/5 [32:29&lt;00:00, 388.79s/it]"
          }
        },
        "28daa861d08548058023fbb7e25fd063": {
          "model_module": "@jupyter-widgets/controls",
          "model_module_version": "1.5.0",
          "model_name": "FloatProgressModel",
          "state": {
            "_dom_classes": [],
            "_model_module": "@jupyter-widgets/controls",
            "_model_module_version": "1.5.0",
            "_model_name": "FloatProgressModel",
            "_view_count": null,
            "_view_module": "@jupyter-widgets/controls",
            "_view_module_version": "1.5.0",
            "_view_name": "ProgressView",
            "bar_style": "success",
            "description": "",
            "description_tooltip": null,
            "layout": "IPY_MODEL_42dc07e6261d41d0b6eaacd242a1126e",
            "max": 5,
            "min": 0,
            "orientation": "horizontal",
            "style": "IPY_MODEL_23fe8ee45536418baa44715033334920",
            "value": 5
          }
        },
        "2ab2cd1b077848718d529b74477dc755": {
          "model_module": "@jupyter-widgets/controls",
          "model_module_version": "1.5.0",
          "model_name": "HBoxModel",
          "state": {
            "_dom_classes": [],
            "_model_module": "@jupyter-widgets/controls",
            "_model_module_version": "1.5.0",
            "_model_name": "HBoxModel",
            "_view_count": null,
            "_view_module": "@jupyter-widgets/controls",
            "_view_module_version": "1.5.0",
            "_view_name": "HBoxView",
            "box_style": "",
            "children": [
              "IPY_MODEL_e623a192ce484f8192c42f7e236057f0",
              "IPY_MODEL_fe5fa85862ac42b7a4db679ae8891f84",
              "IPY_MODEL_af5f4b882d7a4e88b4cd25cc048794a8"
            ],
            "layout": "IPY_MODEL_c63814341cb945d098c97e3e530da1c2"
          }
        },
        "2ae17d389d0f4180865b7f4be87d7770": {
          "model_module": "@jupyter-widgets/controls",
          "model_module_version": "1.5.0",
          "model_name": "HTMLModel",
          "state": {
            "_dom_classes": [],
            "_model_module": "@jupyter-widgets/controls",
            "_model_module_version": "1.5.0",
            "_model_name": "HTMLModel",
            "_view_count": null,
            "_view_module": "@jupyter-widgets/controls",
            "_view_module_version": "1.5.0",
            "_view_name": "HTMLView",
            "description": "",
            "description_tooltip": null,
            "layout": "IPY_MODEL_8b05868b8d8340beb46cc9f18782ca0b",
            "placeholder": "​",
            "style": "IPY_MODEL_dd262718b12243909cebf7e9a6fafb58",
            "value": "100%"
          }
        },
        "2c12fbb8adca4e6b9d1058a173aa07b8": {
          "model_module": "@jupyter-widgets/base",
          "model_module_version": "1.2.0",
          "model_name": "LayoutModel",
          "state": {
            "_model_module": "@jupyter-widgets/base",
            "_model_module_version": "1.2.0",
            "_model_name": "LayoutModel",
            "_view_count": null,
            "_view_module": "@jupyter-widgets/base",
            "_view_module_version": "1.2.0",
            "_view_name": "LayoutView",
            "align_content": null,
            "align_items": null,
            "align_self": null,
            "border": null,
            "bottom": null,
            "display": null,
            "flex": null,
            "flex_flow": null,
            "grid_area": null,
            "grid_auto_columns": null,
            "grid_auto_flow": null,
            "grid_auto_rows": null,
            "grid_column": null,
            "grid_gap": null,
            "grid_row": null,
            "grid_template_areas": null,
            "grid_template_columns": null,
            "grid_template_rows": null,
            "height": null,
            "justify_content": null,
            "justify_items": null,
            "left": null,
            "margin": null,
            "max_height": null,
            "max_width": null,
            "min_height": null,
            "min_width": null,
            "object_fit": null,
            "object_position": null,
            "order": null,
            "overflow": null,
            "overflow_x": null,
            "overflow_y": null,
            "padding": null,
            "right": null,
            "top": null,
            "visibility": null,
            "width": null
          }
        },
        "357fc2edf08f42488498ac2c3022dd89": {
          "model_module": "@jupyter-widgets/base",
          "model_module_version": "1.2.0",
          "model_name": "LayoutModel",
          "state": {
            "_model_module": "@jupyter-widgets/base",
            "_model_module_version": "1.2.0",
            "_model_name": "LayoutModel",
            "_view_count": null,
            "_view_module": "@jupyter-widgets/base",
            "_view_module_version": "1.2.0",
            "_view_name": "LayoutView",
            "align_content": null,
            "align_items": null,
            "align_self": null,
            "border": null,
            "bottom": null,
            "display": null,
            "flex": null,
            "flex_flow": null,
            "grid_area": null,
            "grid_auto_columns": null,
            "grid_auto_flow": null,
            "grid_auto_rows": null,
            "grid_column": null,
            "grid_gap": null,
            "grid_row": null,
            "grid_template_areas": null,
            "grid_template_columns": null,
            "grid_template_rows": null,
            "height": null,
            "justify_content": null,
            "justify_items": null,
            "left": null,
            "margin": null,
            "max_height": null,
            "max_width": null,
            "min_height": null,
            "min_width": null,
            "object_fit": null,
            "object_position": null,
            "order": null,
            "overflow": null,
            "overflow_x": null,
            "overflow_y": null,
            "padding": null,
            "right": null,
            "top": null,
            "visibility": null,
            "width": null
          }
        },
        "3c8127ada3b646088fa1f7853f988b44": {
          "model_module": "@jupyter-widgets/controls",
          "model_module_version": "1.5.0",
          "model_name": "ProgressStyleModel",
          "state": {
            "_model_module": "@jupyter-widgets/controls",
            "_model_module_version": "1.5.0",
            "_model_name": "ProgressStyleModel",
            "_view_count": null,
            "_view_module": "@jupyter-widgets/base",
            "_view_module_version": "1.2.0",
            "_view_name": "StyleView",
            "bar_color": null,
            "description_width": ""
          }
        },
        "3def2f0c67bf496ab61b9b488c752532": {
          "model_module": "@jupyter-widgets/controls",
          "model_module_version": "1.5.0",
          "model_name": "ProgressStyleModel",
          "state": {
            "_model_module": "@jupyter-widgets/controls",
            "_model_module_version": "1.5.0",
            "_model_name": "ProgressStyleModel",
            "_view_count": null,
            "_view_module": "@jupyter-widgets/base",
            "_view_module_version": "1.2.0",
            "_view_name": "StyleView",
            "bar_color": null,
            "description_width": ""
          }
        },
        "42dc07e6261d41d0b6eaacd242a1126e": {
          "model_module": "@jupyter-widgets/base",
          "model_module_version": "1.2.0",
          "model_name": "LayoutModel",
          "state": {
            "_model_module": "@jupyter-widgets/base",
            "_model_module_version": "1.2.0",
            "_model_name": "LayoutModel",
            "_view_count": null,
            "_view_module": "@jupyter-widgets/base",
            "_view_module_version": "1.2.0",
            "_view_name": "LayoutView",
            "align_content": null,
            "align_items": null,
            "align_self": null,
            "border": null,
            "bottom": null,
            "display": null,
            "flex": null,
            "flex_flow": null,
            "grid_area": null,
            "grid_auto_columns": null,
            "grid_auto_flow": null,
            "grid_auto_rows": null,
            "grid_column": null,
            "grid_gap": null,
            "grid_row": null,
            "grid_template_areas": null,
            "grid_template_columns": null,
            "grid_template_rows": null,
            "height": null,
            "justify_content": null,
            "justify_items": null,
            "left": null,
            "margin": null,
            "max_height": null,
            "max_width": null,
            "min_height": null,
            "min_width": null,
            "object_fit": null,
            "object_position": null,
            "order": null,
            "overflow": null,
            "overflow_x": null,
            "overflow_y": null,
            "padding": null,
            "right": null,
            "top": null,
            "visibility": null,
            "width": null
          }
        },
        "463bbb57e53d446b804c8e34626a0085": {
          "model_module": "@jupyter-widgets/controls",
          "model_module_version": "1.5.0",
          "model_name": "HTMLModel",
          "state": {
            "_dom_classes": [],
            "_model_module": "@jupyter-widgets/controls",
            "_model_module_version": "1.5.0",
            "_model_name": "HTMLModel",
            "_view_count": null,
            "_view_module": "@jupyter-widgets/controls",
            "_view_module_version": "1.5.0",
            "_view_name": "HTMLView",
            "description": "",
            "description_tooltip": null,
            "layout": "IPY_MODEL_357fc2edf08f42488498ac2c3022dd89",
            "placeholder": "​",
            "style": "IPY_MODEL_8bf51b107b574f5ba5d08dfc28fcfd49",
            "value": " 5/5 [15:04&lt;00:00, 181.00s/it]"
          }
        },
        "532299b16fca4b0c826904bf059bf140": {
          "model_module": "@jupyter-widgets/base",
          "model_module_version": "1.2.0",
          "model_name": "LayoutModel",
          "state": {
            "_model_module": "@jupyter-widgets/base",
            "_model_module_version": "1.2.0",
            "_model_name": "LayoutModel",
            "_view_count": null,
            "_view_module": "@jupyter-widgets/base",
            "_view_module_version": "1.2.0",
            "_view_name": "LayoutView",
            "align_content": null,
            "align_items": null,
            "align_self": null,
            "border": null,
            "bottom": null,
            "display": null,
            "flex": null,
            "flex_flow": null,
            "grid_area": null,
            "grid_auto_columns": null,
            "grid_auto_flow": null,
            "grid_auto_rows": null,
            "grid_column": null,
            "grid_gap": null,
            "grid_row": null,
            "grid_template_areas": null,
            "grid_template_columns": null,
            "grid_template_rows": null,
            "height": null,
            "justify_content": null,
            "justify_items": null,
            "left": null,
            "margin": null,
            "max_height": null,
            "max_width": null,
            "min_height": null,
            "min_width": null,
            "object_fit": null,
            "object_position": null,
            "order": null,
            "overflow": null,
            "overflow_x": null,
            "overflow_y": null,
            "padding": null,
            "right": null,
            "top": null,
            "visibility": null,
            "width": null
          }
        },
        "5657b010a3e948afae49708d600d8bea": {
          "model_module": "@jupyter-widgets/controls",
          "model_module_version": "1.5.0",
          "model_name": "DescriptionStyleModel",
          "state": {
            "_model_module": "@jupyter-widgets/controls",
            "_model_module_version": "1.5.0",
            "_model_name": "DescriptionStyleModel",
            "_view_count": null,
            "_view_module": "@jupyter-widgets/base",
            "_view_module_version": "1.2.0",
            "_view_name": "StyleView",
            "description_width": ""
          }
        },
        "5de80476b0044ee4b4ab0b86bdba3bc8": {
          "model_module": "@jupyter-widgets/controls",
          "model_module_version": "1.5.0",
          "model_name": "DescriptionStyleModel",
          "state": {
            "_model_module": "@jupyter-widgets/controls",
            "_model_module_version": "1.5.0",
            "_model_name": "DescriptionStyleModel",
            "_view_count": null,
            "_view_module": "@jupyter-widgets/base",
            "_view_module_version": "1.2.0",
            "_view_name": "StyleView",
            "description_width": ""
          }
        },
        "5f6a1332a4d24421bc83b8cd4daeaebb": {
          "model_module": "@jupyter-widgets/base",
          "model_module_version": "1.2.0",
          "model_name": "LayoutModel",
          "state": {
            "_model_module": "@jupyter-widgets/base",
            "_model_module_version": "1.2.0",
            "_model_name": "LayoutModel",
            "_view_count": null,
            "_view_module": "@jupyter-widgets/base",
            "_view_module_version": "1.2.0",
            "_view_name": "LayoutView",
            "align_content": null,
            "align_items": null,
            "align_self": null,
            "border": null,
            "bottom": null,
            "display": null,
            "flex": null,
            "flex_flow": null,
            "grid_area": null,
            "grid_auto_columns": null,
            "grid_auto_flow": null,
            "grid_auto_rows": null,
            "grid_column": null,
            "grid_gap": null,
            "grid_row": null,
            "grid_template_areas": null,
            "grid_template_columns": null,
            "grid_template_rows": null,
            "height": null,
            "justify_content": null,
            "justify_items": null,
            "left": null,
            "margin": null,
            "max_height": null,
            "max_width": null,
            "min_height": null,
            "min_width": null,
            "object_fit": null,
            "object_position": null,
            "order": null,
            "overflow": null,
            "overflow_x": null,
            "overflow_y": null,
            "padding": null,
            "right": null,
            "top": null,
            "visibility": null,
            "width": null
          }
        },
        "63f86f5ac21248b1b1d478cc9bc00288": {
          "model_module": "@jupyter-widgets/base",
          "model_module_version": "1.2.0",
          "model_name": "LayoutModel",
          "state": {
            "_model_module": "@jupyter-widgets/base",
            "_model_module_version": "1.2.0",
            "_model_name": "LayoutModel",
            "_view_count": null,
            "_view_module": "@jupyter-widgets/base",
            "_view_module_version": "1.2.0",
            "_view_name": "LayoutView",
            "align_content": null,
            "align_items": null,
            "align_self": null,
            "border": null,
            "bottom": null,
            "display": null,
            "flex": null,
            "flex_flow": null,
            "grid_area": null,
            "grid_auto_columns": null,
            "grid_auto_flow": null,
            "grid_auto_rows": null,
            "grid_column": null,
            "grid_gap": null,
            "grid_row": null,
            "grid_template_areas": null,
            "grid_template_columns": null,
            "grid_template_rows": null,
            "height": null,
            "justify_content": null,
            "justify_items": null,
            "left": null,
            "margin": null,
            "max_height": null,
            "max_width": null,
            "min_height": null,
            "min_width": null,
            "object_fit": null,
            "object_position": null,
            "order": null,
            "overflow": null,
            "overflow_x": null,
            "overflow_y": null,
            "padding": null,
            "right": null,
            "top": null,
            "visibility": null,
            "width": null
          }
        },
        "69d2c7f3f6494fb1b65999b48008aaea": {
          "model_module": "@jupyter-widgets/controls",
          "model_module_version": "1.5.0",
          "model_name": "HBoxModel",
          "state": {
            "_dom_classes": [],
            "_model_module": "@jupyter-widgets/controls",
            "_model_module_version": "1.5.0",
            "_model_name": "HBoxModel",
            "_view_count": null,
            "_view_module": "@jupyter-widgets/controls",
            "_view_module_version": "1.5.0",
            "_view_name": "HBoxView",
            "box_style": "",
            "children": [
              "IPY_MODEL_e9d367dae41a47c6be670c8c85174f18",
              "IPY_MODEL_aff0b1fd247042fc8f025f535fa21050",
              "IPY_MODEL_6e932ab20f9d40f59ea07a06783845b6"
            ],
            "layout": "IPY_MODEL_f77f515544b5404abfeef4ad53f403c5"
          }
        },
        "6c0098aaed3e46f19be1c4c519d8d0dc": {
          "model_module": "@jupyter-widgets/controls",
          "model_module_version": "1.5.0",
          "model_name": "DescriptionStyleModel",
          "state": {
            "_model_module": "@jupyter-widgets/controls",
            "_model_module_version": "1.5.0",
            "_model_name": "DescriptionStyleModel",
            "_view_count": null,
            "_view_module": "@jupyter-widgets/base",
            "_view_module_version": "1.2.0",
            "_view_name": "StyleView",
            "description_width": ""
          }
        },
        "6e000ac677bb43fba2ccf5825fcee7eb": {
          "model_module": "@jupyter-widgets/controls",
          "model_module_version": "1.5.0",
          "model_name": "ProgressStyleModel",
          "state": {
            "_model_module": "@jupyter-widgets/controls",
            "_model_module_version": "1.5.0",
            "_model_name": "ProgressStyleModel",
            "_view_count": null,
            "_view_module": "@jupyter-widgets/base",
            "_view_module_version": "1.2.0",
            "_view_name": "StyleView",
            "bar_color": null,
            "description_width": ""
          }
        },
        "6e932ab20f9d40f59ea07a06783845b6": {
          "model_module": "@jupyter-widgets/controls",
          "model_module_version": "1.5.0",
          "model_name": "HTMLModel",
          "state": {
            "_dom_classes": [],
            "_model_module": "@jupyter-widgets/controls",
            "_model_module_version": "1.5.0",
            "_model_name": "HTMLModel",
            "_view_count": null,
            "_view_module": "@jupyter-widgets/controls",
            "_view_module_version": "1.5.0",
            "_view_name": "HTMLView",
            "description": "",
            "description_tooltip": null,
            "layout": "IPY_MODEL_1f8afdccdb734793b018a592122e7444",
            "placeholder": "​",
            "style": "IPY_MODEL_5657b010a3e948afae49708d600d8bea",
            "value": " 5/5 [10:19&lt;00:00, 124.04s/it]"
          }
        },
        "805e2a389b934bb7a40460a4482b9caa": {
          "model_module": "@jupyter-widgets/controls",
          "model_module_version": "1.5.0",
          "model_name": "ProgressStyleModel",
          "state": {
            "_model_module": "@jupyter-widgets/controls",
            "_model_module_version": "1.5.0",
            "_model_name": "ProgressStyleModel",
            "_view_count": null,
            "_view_module": "@jupyter-widgets/base",
            "_view_module_version": "1.2.0",
            "_view_name": "StyleView",
            "bar_color": null,
            "description_width": ""
          }
        },
        "82c95bdce006475bbe1812ea05fee5ae": {
          "model_module": "@jupyter-widgets/controls",
          "model_module_version": "1.5.0",
          "model_name": "HTMLModel",
          "state": {
            "_dom_classes": [],
            "_model_module": "@jupyter-widgets/controls",
            "_model_module_version": "1.5.0",
            "_model_name": "HTMLModel",
            "_view_count": null,
            "_view_module": "@jupyter-widgets/controls",
            "_view_module_version": "1.5.0",
            "_view_name": "HTMLView",
            "description": "",
            "description_tooltip": null,
            "layout": "IPY_MODEL_a56e670014994769bf3068cdee4e1172",
            "placeholder": "​",
            "style": "IPY_MODEL_8509fc5647524718a609a9ef4f2de000",
            "value": " 5/5 [06:05&lt;00:00, 72.80s/it]"
          }
        },
        "8509fc5647524718a609a9ef4f2de000": {
          "model_module": "@jupyter-widgets/controls",
          "model_module_version": "1.5.0",
          "model_name": "DescriptionStyleModel",
          "state": {
            "_model_module": "@jupyter-widgets/controls",
            "_model_module_version": "1.5.0",
            "_model_name": "DescriptionStyleModel",
            "_view_count": null,
            "_view_module": "@jupyter-widgets/base",
            "_view_module_version": "1.2.0",
            "_view_name": "StyleView",
            "description_width": ""
          }
        },
        "8b05868b8d8340beb46cc9f18782ca0b": {
          "model_module": "@jupyter-widgets/base",
          "model_module_version": "1.2.0",
          "model_name": "LayoutModel",
          "state": {
            "_model_module": "@jupyter-widgets/base",
            "_model_module_version": "1.2.0",
            "_model_name": "LayoutModel",
            "_view_count": null,
            "_view_module": "@jupyter-widgets/base",
            "_view_module_version": "1.2.0",
            "_view_name": "LayoutView",
            "align_content": null,
            "align_items": null,
            "align_self": null,
            "border": null,
            "bottom": null,
            "display": null,
            "flex": null,
            "flex_flow": null,
            "grid_area": null,
            "grid_auto_columns": null,
            "grid_auto_flow": null,
            "grid_auto_rows": null,
            "grid_column": null,
            "grid_gap": null,
            "grid_row": null,
            "grid_template_areas": null,
            "grid_template_columns": null,
            "grid_template_rows": null,
            "height": null,
            "justify_content": null,
            "justify_items": null,
            "left": null,
            "margin": null,
            "max_height": null,
            "max_width": null,
            "min_height": null,
            "min_width": null,
            "object_fit": null,
            "object_position": null,
            "order": null,
            "overflow": null,
            "overflow_x": null,
            "overflow_y": null,
            "padding": null,
            "right": null,
            "top": null,
            "visibility": null,
            "width": null
          }
        },
        "8bf51b107b574f5ba5d08dfc28fcfd49": {
          "model_module": "@jupyter-widgets/controls",
          "model_module_version": "1.5.0",
          "model_name": "DescriptionStyleModel",
          "state": {
            "_model_module": "@jupyter-widgets/controls",
            "_model_module_version": "1.5.0",
            "_model_name": "DescriptionStyleModel",
            "_view_count": null,
            "_view_module": "@jupyter-widgets/base",
            "_view_module_version": "1.2.0",
            "_view_name": "StyleView",
            "description_width": ""
          }
        },
        "8fb00b6b0da140c19953c8ca680473d7": {
          "model_module": "@jupyter-widgets/controls",
          "model_module_version": "1.5.0",
          "model_name": "HBoxModel",
          "state": {
            "_dom_classes": [],
            "_model_module": "@jupyter-widgets/controls",
            "_model_module_version": "1.5.0",
            "_model_name": "HBoxModel",
            "_view_count": null,
            "_view_module": "@jupyter-widgets/controls",
            "_view_module_version": "1.5.0",
            "_view_name": "HBoxView",
            "box_style": "",
            "children": [
              "IPY_MODEL_2ae17d389d0f4180865b7f4be87d7770",
              "IPY_MODEL_ee07f35d6ee9493598855d6ecdcdbb43",
              "IPY_MODEL_0f3f53d144cd49128216e39f097becdd"
            ],
            "layout": "IPY_MODEL_0212daa828de482ebc20d1b9f544e1a1"
          }
        },
        "a19fca54079d49bda87f0d890a75caaf": {
          "model_module": "@jupyter-widgets/controls",
          "model_module_version": "1.5.0",
          "model_name": "HTMLModel",
          "state": {
            "_dom_classes": [],
            "_model_module": "@jupyter-widgets/controls",
            "_model_module_version": "1.5.0",
            "_model_name": "HTMLModel",
            "_view_count": null,
            "_view_module": "@jupyter-widgets/controls",
            "_view_module_version": "1.5.0",
            "_view_name": "HTMLView",
            "description": "",
            "description_tooltip": null,
            "layout": "IPY_MODEL_dadd1e22a7f54896a96aad895fab777c",
            "placeholder": "​",
            "style": "IPY_MODEL_e70f6a6227ba49cebb4cbffe063dc079",
            "value": "100%"
          }
        },
        "a20ea8a7d8e24e03be2fda1615a1119f": {
          "model_module": "@jupyter-widgets/controls",
          "model_module_version": "1.5.0",
          "model_name": "DescriptionStyleModel",
          "state": {
            "_model_module": "@jupyter-widgets/controls",
            "_model_module_version": "1.5.0",
            "_model_name": "DescriptionStyleModel",
            "_view_count": null,
            "_view_module": "@jupyter-widgets/base",
            "_view_module_version": "1.2.0",
            "_view_name": "StyleView",
            "description_width": ""
          }
        },
        "a44efd4b87d144ceaa38b8190dd683f8": {
          "model_module": "@jupyter-widgets/controls",
          "model_module_version": "1.5.0",
          "model_name": "HBoxModel",
          "state": {
            "_dom_classes": [],
            "_model_module": "@jupyter-widgets/controls",
            "_model_module_version": "1.5.0",
            "_model_name": "HBoxModel",
            "_view_count": null,
            "_view_module": "@jupyter-widgets/controls",
            "_view_module_version": "1.5.0",
            "_view_name": "HBoxView",
            "box_style": "",
            "children": [
              "IPY_MODEL_e3c55ba858914336bfd21fd4fa448478",
              "IPY_MODEL_28daa861d08548058023fbb7e25fd063",
              "IPY_MODEL_463bbb57e53d446b804c8e34626a0085"
            ],
            "layout": "IPY_MODEL_a8445f130e8349a58fcb81fe22182c6a"
          }
        },
        "a56e670014994769bf3068cdee4e1172": {
          "model_module": "@jupyter-widgets/base",
          "model_module_version": "1.2.0",
          "model_name": "LayoutModel",
          "state": {
            "_model_module": "@jupyter-widgets/base",
            "_model_module_version": "1.2.0",
            "_model_name": "LayoutModel",
            "_view_count": null,
            "_view_module": "@jupyter-widgets/base",
            "_view_module_version": "1.2.0",
            "_view_name": "LayoutView",
            "align_content": null,
            "align_items": null,
            "align_self": null,
            "border": null,
            "bottom": null,
            "display": null,
            "flex": null,
            "flex_flow": null,
            "grid_area": null,
            "grid_auto_columns": null,
            "grid_auto_flow": null,
            "grid_auto_rows": null,
            "grid_column": null,
            "grid_gap": null,
            "grid_row": null,
            "grid_template_areas": null,
            "grid_template_columns": null,
            "grid_template_rows": null,
            "height": null,
            "justify_content": null,
            "justify_items": null,
            "left": null,
            "margin": null,
            "max_height": null,
            "max_width": null,
            "min_height": null,
            "min_width": null,
            "object_fit": null,
            "object_position": null,
            "order": null,
            "overflow": null,
            "overflow_x": null,
            "overflow_y": null,
            "padding": null,
            "right": null,
            "top": null,
            "visibility": null,
            "width": null
          }
        },
        "a8445f130e8349a58fcb81fe22182c6a": {
          "model_module": "@jupyter-widgets/base",
          "model_module_version": "1.2.0",
          "model_name": "LayoutModel",
          "state": {
            "_model_module": "@jupyter-widgets/base",
            "_model_module_version": "1.2.0",
            "_model_name": "LayoutModel",
            "_view_count": null,
            "_view_module": "@jupyter-widgets/base",
            "_view_module_version": "1.2.0",
            "_view_name": "LayoutView",
            "align_content": null,
            "align_items": null,
            "align_self": null,
            "border": null,
            "bottom": null,
            "display": null,
            "flex": null,
            "flex_flow": null,
            "grid_area": null,
            "grid_auto_columns": null,
            "grid_auto_flow": null,
            "grid_auto_rows": null,
            "grid_column": null,
            "grid_gap": null,
            "grid_row": null,
            "grid_template_areas": null,
            "grid_template_columns": null,
            "grid_template_rows": null,
            "height": null,
            "justify_content": null,
            "justify_items": null,
            "left": null,
            "margin": null,
            "max_height": null,
            "max_width": null,
            "min_height": null,
            "min_width": null,
            "object_fit": null,
            "object_position": null,
            "order": null,
            "overflow": null,
            "overflow_x": null,
            "overflow_y": null,
            "padding": null,
            "right": null,
            "top": null,
            "visibility": null,
            "width": null
          }
        },
        "aa42ba1c06f24b5185f6e18ddfbc3397": {
          "model_module": "@jupyter-widgets/controls",
          "model_module_version": "1.5.0",
          "model_name": "ProgressStyleModel",
          "state": {
            "_model_module": "@jupyter-widgets/controls",
            "_model_module_version": "1.5.0",
            "_model_name": "ProgressStyleModel",
            "_view_count": null,
            "_view_module": "@jupyter-widgets/base",
            "_view_module_version": "1.2.0",
            "_view_name": "StyleView",
            "bar_color": null,
            "description_width": ""
          }
        },
        "af5f4b882d7a4e88b4cd25cc048794a8": {
          "model_module": "@jupyter-widgets/controls",
          "model_module_version": "1.5.0",
          "model_name": "HTMLModel",
          "state": {
            "_dom_classes": [],
            "_model_module": "@jupyter-widgets/controls",
            "_model_module_version": "1.5.0",
            "_model_name": "HTMLModel",
            "_view_count": null,
            "_view_module": "@jupyter-widgets/controls",
            "_view_module_version": "1.5.0",
            "_view_name": "HTMLView",
            "description": "",
            "description_tooltip": null,
            "layout": "IPY_MODEL_c4ba742ff5b04b14a83de287368d16d2",
            "placeholder": "​",
            "style": "IPY_MODEL_a20ea8a7d8e24e03be2fda1615a1119f",
            "value": " 5/5 [1:20:22&lt;00:00, 1219.31s/it]"
          }
        },
        "aff0b1fd247042fc8f025f535fa21050": {
          "model_module": "@jupyter-widgets/controls",
          "model_module_version": "1.5.0",
          "model_name": "FloatProgressModel",
          "state": {
            "_dom_classes": [],
            "_model_module": "@jupyter-widgets/controls",
            "_model_module_version": "1.5.0",
            "_model_name": "FloatProgressModel",
            "_view_count": null,
            "_view_module": "@jupyter-widgets/controls",
            "_view_module_version": "1.5.0",
            "_view_name": "ProgressView",
            "bar_style": "success",
            "description": "",
            "description_tooltip": null,
            "layout": "IPY_MODEL_1278ddd64e5e4481871e407e8fd73519",
            "max": 5,
            "min": 0,
            "orientation": "horizontal",
            "style": "IPY_MODEL_3def2f0c67bf496ab61b9b488c752532",
            "value": 5
          }
        },
        "b07a7d441347459da6ee2feffc4af6c0": {
          "model_module": "@jupyter-widgets/base",
          "model_module_version": "1.2.0",
          "model_name": "LayoutModel",
          "state": {
            "_model_module": "@jupyter-widgets/base",
            "_model_module_version": "1.2.0",
            "_model_name": "LayoutModel",
            "_view_count": null,
            "_view_module": "@jupyter-widgets/base",
            "_view_module_version": "1.2.0",
            "_view_name": "LayoutView",
            "align_content": null,
            "align_items": null,
            "align_self": null,
            "border": null,
            "bottom": null,
            "display": null,
            "flex": null,
            "flex_flow": null,
            "grid_area": null,
            "grid_auto_columns": null,
            "grid_auto_flow": null,
            "grid_auto_rows": null,
            "grid_column": null,
            "grid_gap": null,
            "grid_row": null,
            "grid_template_areas": null,
            "grid_template_columns": null,
            "grid_template_rows": null,
            "height": null,
            "justify_content": null,
            "justify_items": null,
            "left": null,
            "margin": null,
            "max_height": null,
            "max_width": null,
            "min_height": null,
            "min_width": null,
            "object_fit": null,
            "object_position": null,
            "order": null,
            "overflow": null,
            "overflow_x": null,
            "overflow_y": null,
            "padding": null,
            "right": null,
            "top": null,
            "visibility": null,
            "width": null
          }
        },
        "b4e27265fa7e41f5b7d20b1d494fd213": {
          "model_module": "@jupyter-widgets/controls",
          "model_module_version": "1.5.0",
          "model_name": "DescriptionStyleModel",
          "state": {
            "_model_module": "@jupyter-widgets/controls",
            "_model_module_version": "1.5.0",
            "_model_name": "DescriptionStyleModel",
            "_view_count": null,
            "_view_module": "@jupyter-widgets/base",
            "_view_module_version": "1.2.0",
            "_view_name": "StyleView",
            "description_width": ""
          }
        },
        "b92b36d3196b491b9b5cf60c9d0ece32": {
          "model_module": "@jupyter-widgets/base",
          "model_module_version": "1.2.0",
          "model_name": "LayoutModel",
          "state": {
            "_model_module": "@jupyter-widgets/base",
            "_model_module_version": "1.2.0",
            "_model_name": "LayoutModel",
            "_view_count": null,
            "_view_module": "@jupyter-widgets/base",
            "_view_module_version": "1.2.0",
            "_view_name": "LayoutView",
            "align_content": null,
            "align_items": null,
            "align_self": null,
            "border": null,
            "bottom": null,
            "display": null,
            "flex": null,
            "flex_flow": null,
            "grid_area": null,
            "grid_auto_columns": null,
            "grid_auto_flow": null,
            "grid_auto_rows": null,
            "grid_column": null,
            "grid_gap": null,
            "grid_row": null,
            "grid_template_areas": null,
            "grid_template_columns": null,
            "grid_template_rows": null,
            "height": null,
            "justify_content": null,
            "justify_items": null,
            "left": null,
            "margin": null,
            "max_height": null,
            "max_width": null,
            "min_height": null,
            "min_width": null,
            "object_fit": null,
            "object_position": null,
            "order": null,
            "overflow": null,
            "overflow_x": null,
            "overflow_y": null,
            "padding": null,
            "right": null,
            "top": null,
            "visibility": null,
            "width": null
          }
        },
        "bf4e7e2e82b8482cbf9768303a4feb35": {
          "model_module": "@jupyter-widgets/base",
          "model_module_version": "1.2.0",
          "model_name": "LayoutModel",
          "state": {
            "_model_module": "@jupyter-widgets/base",
            "_model_module_version": "1.2.0",
            "_model_name": "LayoutModel",
            "_view_count": null,
            "_view_module": "@jupyter-widgets/base",
            "_view_module_version": "1.2.0",
            "_view_name": "LayoutView",
            "align_content": null,
            "align_items": null,
            "align_self": null,
            "border": null,
            "bottom": null,
            "display": null,
            "flex": null,
            "flex_flow": null,
            "grid_area": null,
            "grid_auto_columns": null,
            "grid_auto_flow": null,
            "grid_auto_rows": null,
            "grid_column": null,
            "grid_gap": null,
            "grid_row": null,
            "grid_template_areas": null,
            "grid_template_columns": null,
            "grid_template_rows": null,
            "height": null,
            "justify_content": null,
            "justify_items": null,
            "left": null,
            "margin": null,
            "max_height": null,
            "max_width": null,
            "min_height": null,
            "min_width": null,
            "object_fit": null,
            "object_position": null,
            "order": null,
            "overflow": null,
            "overflow_x": null,
            "overflow_y": null,
            "padding": null,
            "right": null,
            "top": null,
            "visibility": null,
            "width": null
          }
        },
        "c4ba742ff5b04b14a83de287368d16d2": {
          "model_module": "@jupyter-widgets/base",
          "model_module_version": "1.2.0",
          "model_name": "LayoutModel",
          "state": {
            "_model_module": "@jupyter-widgets/base",
            "_model_module_version": "1.2.0",
            "_model_name": "LayoutModel",
            "_view_count": null,
            "_view_module": "@jupyter-widgets/base",
            "_view_module_version": "1.2.0",
            "_view_name": "LayoutView",
            "align_content": null,
            "align_items": null,
            "align_self": null,
            "border": null,
            "bottom": null,
            "display": null,
            "flex": null,
            "flex_flow": null,
            "grid_area": null,
            "grid_auto_columns": null,
            "grid_auto_flow": null,
            "grid_auto_rows": null,
            "grid_column": null,
            "grid_gap": null,
            "grid_row": null,
            "grid_template_areas": null,
            "grid_template_columns": null,
            "grid_template_rows": null,
            "height": null,
            "justify_content": null,
            "justify_items": null,
            "left": null,
            "margin": null,
            "max_height": null,
            "max_width": null,
            "min_height": null,
            "min_width": null,
            "object_fit": null,
            "object_position": null,
            "order": null,
            "overflow": null,
            "overflow_x": null,
            "overflow_y": null,
            "padding": null,
            "right": null,
            "top": null,
            "visibility": null,
            "width": null
          }
        },
        "c53c9fb77b0f4edba36f812d72d62006": {
          "model_module": "@jupyter-widgets/base",
          "model_module_version": "1.2.0",
          "model_name": "LayoutModel",
          "state": {
            "_model_module": "@jupyter-widgets/base",
            "_model_module_version": "1.2.0",
            "_model_name": "LayoutModel",
            "_view_count": null,
            "_view_module": "@jupyter-widgets/base",
            "_view_module_version": "1.2.0",
            "_view_name": "LayoutView",
            "align_content": null,
            "align_items": null,
            "align_self": null,
            "border": null,
            "bottom": null,
            "display": null,
            "flex": null,
            "flex_flow": null,
            "grid_area": null,
            "grid_auto_columns": null,
            "grid_auto_flow": null,
            "grid_auto_rows": null,
            "grid_column": null,
            "grid_gap": null,
            "grid_row": null,
            "grid_template_areas": null,
            "grid_template_columns": null,
            "grid_template_rows": null,
            "height": null,
            "justify_content": null,
            "justify_items": null,
            "left": null,
            "margin": null,
            "max_height": null,
            "max_width": null,
            "min_height": null,
            "min_width": null,
            "object_fit": null,
            "object_position": null,
            "order": null,
            "overflow": null,
            "overflow_x": null,
            "overflow_y": null,
            "padding": null,
            "right": null,
            "top": null,
            "visibility": null,
            "width": null
          }
        },
        "c63814341cb945d098c97e3e530da1c2": {
          "model_module": "@jupyter-widgets/base",
          "model_module_version": "1.2.0",
          "model_name": "LayoutModel",
          "state": {
            "_model_module": "@jupyter-widgets/base",
            "_model_module_version": "1.2.0",
            "_model_name": "LayoutModel",
            "_view_count": null,
            "_view_module": "@jupyter-widgets/base",
            "_view_module_version": "1.2.0",
            "_view_name": "LayoutView",
            "align_content": null,
            "align_items": null,
            "align_self": null,
            "border": null,
            "bottom": null,
            "display": null,
            "flex": null,
            "flex_flow": null,
            "grid_area": null,
            "grid_auto_columns": null,
            "grid_auto_flow": null,
            "grid_auto_rows": null,
            "grid_column": null,
            "grid_gap": null,
            "grid_row": null,
            "grid_template_areas": null,
            "grid_template_columns": null,
            "grid_template_rows": null,
            "height": null,
            "justify_content": null,
            "justify_items": null,
            "left": null,
            "margin": null,
            "max_height": null,
            "max_width": null,
            "min_height": null,
            "min_width": null,
            "object_fit": null,
            "object_position": null,
            "order": null,
            "overflow": null,
            "overflow_x": null,
            "overflow_y": null,
            "padding": null,
            "right": null,
            "top": null,
            "visibility": null,
            "width": null
          }
        },
        "cff2c6ccfa114e16a0b0b0e40957feec": {
          "model_module": "@jupyter-widgets/controls",
          "model_module_version": "1.5.0",
          "model_name": "HTMLModel",
          "state": {
            "_dom_classes": [],
            "_model_module": "@jupyter-widgets/controls",
            "_model_module_version": "1.5.0",
            "_model_name": "HTMLModel",
            "_view_count": null,
            "_view_module": "@jupyter-widgets/controls",
            "_view_module_version": "1.5.0",
            "_view_name": "HTMLView",
            "description": "",
            "description_tooltip": null,
            "layout": "IPY_MODEL_e774bff9c71b40459f7b58f36dd090da",
            "placeholder": "​",
            "style": "IPY_MODEL_5de80476b0044ee4b4ab0b86bdba3bc8",
            "value": "100%"
          }
        },
        "d967a42a632f46f8ba86cb0698f2c0e7": {
          "model_module": "@jupyter-widgets/base",
          "model_module_version": "1.2.0",
          "model_name": "LayoutModel",
          "state": {
            "_model_module": "@jupyter-widgets/base",
            "_model_module_version": "1.2.0",
            "_model_name": "LayoutModel",
            "_view_count": null,
            "_view_module": "@jupyter-widgets/base",
            "_view_module_version": "1.2.0",
            "_view_name": "LayoutView",
            "align_content": null,
            "align_items": null,
            "align_self": null,
            "border": null,
            "bottom": null,
            "display": null,
            "flex": null,
            "flex_flow": null,
            "grid_area": null,
            "grid_auto_columns": null,
            "grid_auto_flow": null,
            "grid_auto_rows": null,
            "grid_column": null,
            "grid_gap": null,
            "grid_row": null,
            "grid_template_areas": null,
            "grid_template_columns": null,
            "grid_template_rows": null,
            "height": null,
            "justify_content": null,
            "justify_items": null,
            "left": null,
            "margin": null,
            "max_height": null,
            "max_width": null,
            "min_height": null,
            "min_width": null,
            "object_fit": null,
            "object_position": null,
            "order": null,
            "overflow": null,
            "overflow_x": null,
            "overflow_y": null,
            "padding": null,
            "right": null,
            "top": null,
            "visibility": null,
            "width": null
          }
        },
        "dadd1e22a7f54896a96aad895fab777c": {
          "model_module": "@jupyter-widgets/base",
          "model_module_version": "1.2.0",
          "model_name": "LayoutModel",
          "state": {
            "_model_module": "@jupyter-widgets/base",
            "_model_module_version": "1.2.0",
            "_model_name": "LayoutModel",
            "_view_count": null,
            "_view_module": "@jupyter-widgets/base",
            "_view_module_version": "1.2.0",
            "_view_name": "LayoutView",
            "align_content": null,
            "align_items": null,
            "align_self": null,
            "border": null,
            "bottom": null,
            "display": null,
            "flex": null,
            "flex_flow": null,
            "grid_area": null,
            "grid_auto_columns": null,
            "grid_auto_flow": null,
            "grid_auto_rows": null,
            "grid_column": null,
            "grid_gap": null,
            "grid_row": null,
            "grid_template_areas": null,
            "grid_template_columns": null,
            "grid_template_rows": null,
            "height": null,
            "justify_content": null,
            "justify_items": null,
            "left": null,
            "margin": null,
            "max_height": null,
            "max_width": null,
            "min_height": null,
            "min_width": null,
            "object_fit": null,
            "object_position": null,
            "order": null,
            "overflow": null,
            "overflow_x": null,
            "overflow_y": null,
            "padding": null,
            "right": null,
            "top": null,
            "visibility": null,
            "width": null
          }
        },
        "dd262718b12243909cebf7e9a6fafb58": {
          "model_module": "@jupyter-widgets/controls",
          "model_module_version": "1.5.0",
          "model_name": "DescriptionStyleModel",
          "state": {
            "_model_module": "@jupyter-widgets/controls",
            "_model_module_version": "1.5.0",
            "_model_name": "DescriptionStyleModel",
            "_view_count": null,
            "_view_module": "@jupyter-widgets/base",
            "_view_module_version": "1.2.0",
            "_view_name": "StyleView",
            "description_width": ""
          }
        },
        "dd6805874a8a4a58a4833a5ad277c95f": {
          "model_module": "@jupyter-widgets/controls",
          "model_module_version": "1.5.0",
          "model_name": "DescriptionStyleModel",
          "state": {
            "_model_module": "@jupyter-widgets/controls",
            "_model_module_version": "1.5.0",
            "_model_name": "DescriptionStyleModel",
            "_view_count": null,
            "_view_module": "@jupyter-widgets/base",
            "_view_module_version": "1.2.0",
            "_view_name": "StyleView",
            "description_width": ""
          }
        },
        "e2b1e675ebc341a5b71ec1cb3bd1f480": {
          "model_module": "@jupyter-widgets/controls",
          "model_module_version": "1.5.0",
          "model_name": "HBoxModel",
          "state": {
            "_dom_classes": [],
            "_model_module": "@jupyter-widgets/controls",
            "_model_module_version": "1.5.0",
            "_model_name": "HBoxModel",
            "_view_count": null,
            "_view_module": "@jupyter-widgets/controls",
            "_view_module_version": "1.5.0",
            "_view_name": "HBoxView",
            "box_style": "",
            "children": [
              "IPY_MODEL_a19fca54079d49bda87f0d890a75caaf",
              "IPY_MODEL_04df7fa7bfd6411bb7056ce78765d144",
              "IPY_MODEL_275aac17d7ed48f1a6cbb93d20a7448d"
            ],
            "layout": "IPY_MODEL_b07a7d441347459da6ee2feffc4af6c0"
          }
        },
        "e3c55ba858914336bfd21fd4fa448478": {
          "model_module": "@jupyter-widgets/controls",
          "model_module_version": "1.5.0",
          "model_name": "HTMLModel",
          "state": {
            "_dom_classes": [],
            "_model_module": "@jupyter-widgets/controls",
            "_model_module_version": "1.5.0",
            "_model_name": "HTMLModel",
            "_view_count": null,
            "_view_module": "@jupyter-widgets/controls",
            "_view_module_version": "1.5.0",
            "_view_name": "HTMLView",
            "description": "",
            "description_tooltip": null,
            "layout": "IPY_MODEL_15f138eaa392469e9037606c6426e718",
            "placeholder": "​",
            "style": "IPY_MODEL_b4e27265fa7e41f5b7d20b1d494fd213",
            "value": "100%"
          }
        },
        "e623a192ce484f8192c42f7e236057f0": {
          "model_module": "@jupyter-widgets/controls",
          "model_module_version": "1.5.0",
          "model_name": "HTMLModel",
          "state": {
            "_dom_classes": [],
            "_model_module": "@jupyter-widgets/controls",
            "_model_module_version": "1.5.0",
            "_model_name": "HTMLModel",
            "_view_count": null,
            "_view_module": "@jupyter-widgets/controls",
            "_view_module_version": "1.5.0",
            "_view_name": "HTMLView",
            "description": "",
            "description_tooltip": null,
            "layout": "IPY_MODEL_b92b36d3196b491b9b5cf60c9d0ece32",
            "placeholder": "​",
            "style": "IPY_MODEL_efab34b9c2c24afebff0f3339c0c37f4",
            "value": "100%"
          }
        },
        "e70f6a6227ba49cebb4cbffe063dc079": {
          "model_module": "@jupyter-widgets/controls",
          "model_module_version": "1.5.0",
          "model_name": "DescriptionStyleModel",
          "state": {
            "_model_module": "@jupyter-widgets/controls",
            "_model_module_version": "1.5.0",
            "_model_name": "DescriptionStyleModel",
            "_view_count": null,
            "_view_module": "@jupyter-widgets/base",
            "_view_module_version": "1.2.0",
            "_view_name": "StyleView",
            "description_width": ""
          }
        },
        "e774bff9c71b40459f7b58f36dd090da": {
          "model_module": "@jupyter-widgets/base",
          "model_module_version": "1.2.0",
          "model_name": "LayoutModel",
          "state": {
            "_model_module": "@jupyter-widgets/base",
            "_model_module_version": "1.2.0",
            "_model_name": "LayoutModel",
            "_view_count": null,
            "_view_module": "@jupyter-widgets/base",
            "_view_module_version": "1.2.0",
            "_view_name": "LayoutView",
            "align_content": null,
            "align_items": null,
            "align_self": null,
            "border": null,
            "bottom": null,
            "display": null,
            "flex": null,
            "flex_flow": null,
            "grid_area": null,
            "grid_auto_columns": null,
            "grid_auto_flow": null,
            "grid_auto_rows": null,
            "grid_column": null,
            "grid_gap": null,
            "grid_row": null,
            "grid_template_areas": null,
            "grid_template_columns": null,
            "grid_template_rows": null,
            "height": null,
            "justify_content": null,
            "justify_items": null,
            "left": null,
            "margin": null,
            "max_height": null,
            "max_width": null,
            "min_height": null,
            "min_width": null,
            "object_fit": null,
            "object_position": null,
            "order": null,
            "overflow": null,
            "overflow_x": null,
            "overflow_y": null,
            "padding": null,
            "right": null,
            "top": null,
            "visibility": null,
            "width": null
          }
        },
        "e9d367dae41a47c6be670c8c85174f18": {
          "model_module": "@jupyter-widgets/controls",
          "model_module_version": "1.5.0",
          "model_name": "HTMLModel",
          "state": {
            "_dom_classes": [],
            "_model_module": "@jupyter-widgets/controls",
            "_model_module_version": "1.5.0",
            "_model_name": "HTMLModel",
            "_view_count": null,
            "_view_module": "@jupyter-widgets/controls",
            "_view_module_version": "1.5.0",
            "_view_name": "HTMLView",
            "description": "",
            "description_tooltip": null,
            "layout": "IPY_MODEL_c53c9fb77b0f4edba36f812d72d62006",
            "placeholder": "​",
            "style": "IPY_MODEL_dd6805874a8a4a58a4833a5ad277c95f",
            "value": "100%"
          }
        },
        "ee07f35d6ee9493598855d6ecdcdbb43": {
          "model_module": "@jupyter-widgets/controls",
          "model_module_version": "1.5.0",
          "model_name": "FloatProgressModel",
          "state": {
            "_dom_classes": [],
            "_model_module": "@jupyter-widgets/controls",
            "_model_module_version": "1.5.0",
            "_model_name": "FloatProgressModel",
            "_view_count": null,
            "_view_module": "@jupyter-widgets/controls",
            "_view_module_version": "1.5.0",
            "_view_name": "ProgressView",
            "bar_style": "success",
            "description": "",
            "description_tooltip": null,
            "layout": "IPY_MODEL_bf4e7e2e82b8482cbf9768303a4feb35",
            "max": 5,
            "min": 0,
            "orientation": "horizontal",
            "style": "IPY_MODEL_aa42ba1c06f24b5185f6e18ddfbc3397",
            "value": 5
          }
        },
        "efab34b9c2c24afebff0f3339c0c37f4": {
          "model_module": "@jupyter-widgets/controls",
          "model_module_version": "1.5.0",
          "model_name": "DescriptionStyleModel",
          "state": {
            "_model_module": "@jupyter-widgets/controls",
            "_model_module_version": "1.5.0",
            "_model_name": "DescriptionStyleModel",
            "_view_count": null,
            "_view_module": "@jupyter-widgets/base",
            "_view_module_version": "1.2.0",
            "_view_name": "StyleView",
            "description_width": ""
          }
        },
        "f77f515544b5404abfeef4ad53f403c5": {
          "model_module": "@jupyter-widgets/base",
          "model_module_version": "1.2.0",
          "model_name": "LayoutModel",
          "state": {
            "_model_module": "@jupyter-widgets/base",
            "_model_module_version": "1.2.0",
            "_model_name": "LayoutModel",
            "_view_count": null,
            "_view_module": "@jupyter-widgets/base",
            "_view_module_version": "1.2.0",
            "_view_name": "LayoutView",
            "align_content": null,
            "align_items": null,
            "align_self": null,
            "border": null,
            "bottom": null,
            "display": null,
            "flex": null,
            "flex_flow": null,
            "grid_area": null,
            "grid_auto_columns": null,
            "grid_auto_flow": null,
            "grid_auto_rows": null,
            "grid_column": null,
            "grid_gap": null,
            "grid_row": null,
            "grid_template_areas": null,
            "grid_template_columns": null,
            "grid_template_rows": null,
            "height": null,
            "justify_content": null,
            "justify_items": null,
            "left": null,
            "margin": null,
            "max_height": null,
            "max_width": null,
            "min_height": null,
            "min_width": null,
            "object_fit": null,
            "object_position": null,
            "order": null,
            "overflow": null,
            "overflow_x": null,
            "overflow_y": null,
            "padding": null,
            "right": null,
            "top": null,
            "visibility": null,
            "width": null
          }
        },
        "f8fd9c70f5ef45b986c72f192494d490": {
          "model_module": "@jupyter-widgets/controls",
          "model_module_version": "1.5.0",
          "model_name": "DescriptionStyleModel",
          "state": {
            "_model_module": "@jupyter-widgets/controls",
            "_model_module_version": "1.5.0",
            "_model_name": "DescriptionStyleModel",
            "_view_count": null,
            "_view_module": "@jupyter-widgets/base",
            "_view_module_version": "1.2.0",
            "_view_name": "StyleView",
            "description_width": ""
          }
        },
        "fe5fa85862ac42b7a4db679ae8891f84": {
          "model_module": "@jupyter-widgets/controls",
          "model_module_version": "1.5.0",
          "model_name": "FloatProgressModel",
          "state": {
            "_dom_classes": [],
            "_model_module": "@jupyter-widgets/controls",
            "_model_module_version": "1.5.0",
            "_model_name": "FloatProgressModel",
            "_view_count": null,
            "_view_module": "@jupyter-widgets/controls",
            "_view_module_version": "1.5.0",
            "_view_name": "ProgressView",
            "bar_style": "success",
            "description": "",
            "description_tooltip": null,
            "layout": "IPY_MODEL_1b04faae65f54e2a8847fe48993d2a2e",
            "max": 5,
            "min": 0,
            "orientation": "horizontal",
            "style": "IPY_MODEL_6e000ac677bb43fba2ccf5825fcee7eb",
            "value": 5
          }
        }
      }
    }
  },
  "nbformat": 4,
  "nbformat_minor": 5
}
